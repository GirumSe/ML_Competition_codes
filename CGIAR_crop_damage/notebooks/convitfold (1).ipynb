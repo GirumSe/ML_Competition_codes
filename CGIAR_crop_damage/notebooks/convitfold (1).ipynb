{
  "metadata": {
    "kernelspec": {
      "display_name": "Python 3",
      "name": "python3"
    },
    "language_info": {
      "name": "python",
      "version": "3.10.12",
      "mimetype": "text/x-python",
      "codemirror_mode": {
        "name": "ipython",
        "version": 3
      },
      "pygments_lexer": "ipython3",
      "nbconvert_exporter": "python",
      "file_extension": ".py"
    },
    "kaggle": {
      "accelerator": "none",
      "dataSources": [
        {
          "sourceId": 7027067,
          "sourceType": "datasetVersion",
          "datasetId": 3963802
        }
      ],
      "dockerImageVersionId": 30627,
      "isInternetEnabled": true,
      "language": "python",
      "sourceType": "notebook",
      "isGpuEnabled": false
    },
    "colab": {
      "provenance": [],
      "gpuType": "T4"
    },
    "accelerator": "GPU"
  },
  "nbformat_minor": 0,
  "nbformat": 4,
  "cells": [
    {
      "cell_type": "code",
      "source": [
        "from google.colab import drive\n",
        "drive.mount('/content/drive')"
      ],
      "metadata": {
        "colab": {
          "base_uri": "https://localhost:8080/"
        },
        "id": "Gzigs7k8MByD",
        "outputId": "01be9b69-89e1-49c9-a10b-dd09a1ea29fb"
      },
      "execution_count": 1,
      "outputs": [
        {
          "output_type": "stream",
          "name": "stdout",
          "text": [
            "Mounted at /content/drive\n"
          ]
        }
      ]
    },
    {
      "cell_type": "code",
      "source": [
        "!pip install --upgrade -q fastai\n",
        "!pip install timm -q\n",
        "!pip install albumentations==0.4.6 -q\n",
        "!pip install transformers -q"
      ],
      "metadata": {
        "colab": {
          "base_uri": "https://localhost:8080/"
        },
        "id": "aNMyQxGlL8Th",
        "outputId": "a2de52eb-6684-41c8-9005-855ef55cf267"
      },
      "execution_count": 2,
      "outputs": [
        {
          "output_type": "stream",
          "name": "stdout",
          "text": [
            "\u001b[2K     \u001b[90m━━━━━━━━━━━━━━━━━━━━━━━━━━━━━━━━━━━━━━━━\u001b[0m \u001b[32m2.2/2.2 MB\u001b[0m \u001b[31m28.6 MB/s\u001b[0m eta \u001b[36m0:00:00\u001b[0m\n",
            "\u001b[2K     \u001b[90m━━━━━━━━━━━━━━━━━━━━━━━━━━━━━━━━━━━━━━━━\u001b[0m \u001b[32m117.2/117.2 kB\u001b[0m \u001b[31m1.4 MB/s\u001b[0m eta \u001b[36m0:00:00\u001b[0m\n",
            "\u001b[?25h  Preparing metadata (setup.py) ... \u001b[?25l\u001b[?25hdone\n",
            "  Building wheel for albumentations (setup.py) ... \u001b[?25l\u001b[?25hdone\n"
          ]
        }
      ]
    },
    {
      "cell_type": "code",
      "source": [
        "!unzip -o -q '/content/drive/MyDrive/zindidata.zip' -d \"/content/zindidata\""
      ],
      "metadata": {
        "id": "V-M4j2-HRGFz"
      },
      "execution_count": 3,
      "outputs": []
    },
    {
      "cell_type": "code",
      "source": [
        "from fastai.metrics import accuracy\n",
        "from fastai.optimizer import OptimWrapper\n",
        "from fastai.vision.all import *\n",
        "from PIL import Image\n",
        "\n",
        "from torch import optim\n",
        "import torch.nn as nn\n",
        "import timm\n",
        "import albumentations as A\n",
        "from albumentations.pytorch import ToTensorV2\n",
        "from transformers import AdamW\n",
        "import cv2\n",
        "\n",
        "import gc\n",
        "import glob\n",
        "import inspect\n",
        "import pandas as pd\n",
        "from concurrent.futures import ProcessPoolExecutor\n",
        "from functools import partial\n",
        "\n",
        "from skimage.metrics import structural_similarity as ssim\n",
        "from skimage import color, transform\n",
        "from sklearn.model_selection import StratifiedKFold\n",
        "\n",
        "import warnings\n",
        "warnings.filterwarnings('ignore')\n",
        "set_seed(3, reproducible=True)"
      ],
      "metadata": {
        "_uuid": "8f2839f25d086af736a60e9eeb907d3b93b6e0e5",
        "_cell_guid": "b1076dfc-b9ad-4769-8c92-a6c4dae69d19",
        "execution": {
          "iopub.status.busy": "2024-01-10T10:03:55.608457Z",
          "iopub.execute_input": "2024-01-10T10:03:55.609262Z",
          "iopub.status.idle": "2024-01-10T10:04:05.673718Z",
          "shell.execute_reply.started": "2024-01-10T10:03:55.609227Z",
          "shell.execute_reply": "2024-01-10T10:04:05.672561Z"
        },
        "trusted": true,
        "id": "-XlrGQSpLfJw"
      },
      "execution_count": 4,
      "outputs": []
    },
    {
      "cell_type": "code",
      "source": [
        "path = '/content/zindidata/'"
      ],
      "metadata": {
        "id": "mr7lZw5ENGoZ"
      },
      "execution_count": 5,
      "outputs": []
    },
    {
      "cell_type": "code",
      "source": [
        "trn_path = f'{path}images/images/'"
      ],
      "metadata": {
        "execution": {
          "iopub.status.busy": "2024-01-10T10:04:22.834156Z",
          "iopub.execute_input": "2024-01-10T10:04:22.835387Z",
          "iopub.status.idle": "2024-01-10T10:04:52.012893Z",
          "shell.execute_reply.started": "2024-01-10T10:04:22.835348Z",
          "shell.execute_reply": "2024-01-10T10:04:52.012074Z"
        },
        "trusted": true,
        "id": "aqjnaQvrLfKD"
      },
      "execution_count": 6,
      "outputs": []
    },
    {
      "cell_type": "code",
      "source": [
        "train            = pd.read_csv(f'{path}Train.csv')\n",
        "test             = pd.read_csv(f'{path}Test.csv')\n",
        "SampleSubmission = pd.read_csv(f'{path}SampleSubmission.csv')"
      ],
      "metadata": {
        "execution": {
          "iopub.status.busy": "2024-01-10T10:04:57.245362Z",
          "iopub.execute_input": "2024-01-10T10:04:57.246159Z",
          "iopub.status.idle": "2024-01-10T10:04:57.353512Z",
          "shell.execute_reply.started": "2024-01-10T10:04:57.246126Z",
          "shell.execute_reply": "2024-01-10T10:04:57.352575Z"
        },
        "trusted": true,
        "id": "Jr9ve-WaLfKG"
      },
      "execution_count": 7,
      "outputs": []
    },
    {
      "cell_type": "code",
      "source": [
        "Train = train.copy()\n",
        "Test = test.copy()\n",
        "\n",
        "skf = StratifiedKFold(5, shuffle=True, random_state=3)\n",
        "X = Train.drop(columns='damage')\n",
        "y = Train.damage\n",
        "\n",
        "for fold, (_, valid_index) in enumerate(skf.split(X, y)):\n",
        "  Train.loc[valid_index, \"fold\"] = fold\n",
        "\n",
        "Train.fold = Train.fold.astype(int)"
      ],
      "metadata": {
        "id": "PgOiueUTLfKP"
      },
      "execution_count": 8,
      "outputs": []
    },
    {
      "cell_type": "code",
      "source": [
        "damage = Train.damage.unique()"
      ],
      "metadata": {
        "execution": {
          "iopub.status.busy": "2024-01-10T10:04:59.324199Z",
          "iopub.execute_input": "2024-01-10T10:04:59.324815Z",
          "iopub.status.idle": "2024-01-10T10:04:59.338016Z",
          "shell.execute_reply.started": "2024-01-10T10:04:59.324786Z",
          "shell.execute_reply": "2024-01-10T10:04:59.337028Z"
        },
        "trusted": true,
        "id": "mM0kFlVlLfKR"
      },
      "execution_count": 9,
      "outputs": []
    },
    {
      "cell_type": "code",
      "source": [
        "class_weights = torch.FloatTensor([1.3, 1.2, 1.4, 1.0, 2.8]).cuda()"
      ],
      "metadata": {
        "execution": {
          "iopub.status.busy": "2024-01-10T10:05:10.234761Z",
          "iopub.execute_input": "2024-01-10T10:05:10.235557Z",
          "iopub.status.idle": "2024-01-10T10:05:10.418281Z",
          "shell.execute_reply.started": "2024-01-10T10:05:10.235524Z",
          "shell.execute_reply": "2024-01-10T10:05:10.417362Z"
        },
        "trusted": true,
        "id": "alwDVMRvLfKU"
      },
      "execution_count": 10,
      "outputs": []
    },
    {
      "cell_type": "code",
      "source": [
        "IMG_HEIGHT = IMG_WIDTH = 224\n",
        "IMAGENET_MEAN = (0.485, 0.456, 0.406)\n",
        "IMAGENET_STD = (0.229, 0.224, 0.225)\n",
        "INCEPTION_MEAN = INCEPTION_STD = (0.5, 0.5, 0.5)\n",
        "\n",
        "\n",
        "class AlbumentationsTransform(RandTransform):\n",
        "    \"A transform handler for multiple `Albumentation` transforms\"\n",
        "    split_idx, order = None, 2\n",
        "    def __init__(self, train_aug, valid_aug): store_attr()\n",
        "\n",
        "    def before_call(self, b, split_idx):\n",
        "        self.idx = split_idx\n",
        "\n",
        "    def encodes(self, img: PILImage):\n",
        "        if self.idx == 0:\n",
        "            aug_img = self.train_aug(image=np.array(img))['image']\n",
        "        else:\n",
        "            aug_img = self.valid_aug(image=np.array(img))['image']\n",
        "\n",
        "        return aug_img\n",
        "\n",
        "\n",
        "def get_train_transforms(mean_std):\n",
        "    augmentations = [\n",
        "        A.VerticalFlip(p=.4),\n",
        "        A.HorizontalFlip(p=.5),\n",
        "        A.RandomRotate90(p=.2),\n",
        "        A.ShiftScaleRotate(\n",
        "            shift_limit=0.2, scale_limit=0.3,\n",
        "            rotate_limit=45, border_mode=0, p=.6\n",
        "        ),\n",
        "        A.ImageCompression(quality_lower=99, quality_upper=100),\n",
        "        A.RandomBrightnessContrast(brightness_limit=(-0.15,0.2), contrast_limit=(-0.1, 0.1), p=0.5),\n",
        "        A.Cutout(\n",
        "            max_h_size=int(IMG_HEIGHT*0.3),\n",
        "            max_w_size=int(IMG_WIDTH*0.3),\n",
        "            num_holes=4,\n",
        "            p=.7,\n",
        "        ),\n",
        "    ]\n",
        "    if mean_std=='imagenet':\n",
        "        augmentations.append(A.Normalize(mean=IMAGENET_MEAN, std=IMAGENET_STD))\n",
        "    elif mean_std=='inception':\n",
        "        augmentations.append(A.Normalize(mean=INCEPTION_MEAN, std=INCEPTION_STD))\n",
        "    else:\n",
        "        augmentations.append(A.Normalize(mean=0, std=1))\n",
        "\n",
        "    augmentations.append(ToTensorV2())\n",
        "    return A.Compose(augmentations)\n",
        "\n",
        "\n",
        "def get_valid_transforms(mean_std):\n",
        "    augmentations = []\n",
        "    if mean_std=='imagenet':\n",
        "        augmentations.append(A.Normalize(mean=IMAGENET_MEAN, std=IMAGENET_STD))\n",
        "    elif mean_std=='inception':\n",
        "        augmentations.append(A.Normalize(mean=INCEPTION_MEAN, std=INCEPTION_STD))\n",
        "    else:\n",
        "        augmentations.append(A.Normalize(mean=0, std=1))\n",
        "\n",
        "    augmentations.append(ToTensorV2())\n",
        "    return A.Compose(augmentations)\n",
        "\n",
        "def get_item_tfms(mean_std='imagenet'):\n",
        "    return [Resize(224, method='squish'), AlbumentationsTransform(get_train_transforms(mean_std), get_valid_transforms(mean_std))]"
      ],
      "metadata": {
        "execution": {
          "iopub.status.busy": "2024-01-10T10:06:06.263126Z",
          "iopub.execute_input": "2024-01-10T10:06:06.263515Z",
          "iopub.status.idle": "2024-01-10T10:06:06.277946Z",
          "shell.execute_reply.started": "2024-01-10T10:06:06.263484Z",
          "shell.execute_reply": "2024-01-10T10:06:06.277051Z"
        },
        "trusted": true,
        "id": "Qr3_W6VVLfKW"
      },
      "execution_count": 11,
      "outputs": []
    },
    {
      "cell_type": "code",
      "source": [
        "def get_dls(fold=0, mean_std='imagenet'):\n",
        "    clas_block = DataBlock(blocks = (ImageBlock, CategoryBlock(vocab=damage)),\n",
        "                       get_x = ColReader('filename', pref = trn_path),\n",
        "                       get_y = ColReader('damage'),\n",
        "                       splitter = MaskSplitter(Train.fold == fold),\n",
        "                       item_tfms = get_item_tfms(mean_std), #Resize(320, method = 'squish'),\n",
        "                       batch_tfms = aug_transforms(min_scale= 0.75), #aug_transforms(size = 128, min_scale = 0.75)\n",
        "                      )\n",
        "    dls = clas_block.dataloaders(Train, bs=64)\n",
        "    dls.rng.seed(3)\n",
        "\n",
        "    return dls"
      ],
      "metadata": {
        "id": "WfkOtEeiLfKc"
      },
      "execution_count": 12,
      "outputs": []
    },
    {
      "cell_type": "code",
      "source": [
        "def free_memory(to_delete: list):\n",
        "    calling_namespace = inspect.currentframe().f_back\n",
        "\n",
        "    for _var in to_delete:\n",
        "        calling_namespace.f_locals.pop(_var, None)\n",
        "        gc.collect()\n",
        "        torch.cuda.empty_cache()"
      ],
      "metadata": {
        "execution": {
          "iopub.status.busy": "2024-01-10T10:06:23.167323Z",
          "iopub.execute_input": "2024-01-10T10:06:23.168169Z",
          "iopub.status.idle": "2024-01-10T10:06:23.172933Z",
          "shell.execute_reply.started": "2024-01-10T10:06:23.168131Z",
          "shell.execute_reply": "2024-01-10T10:06:23.171861Z"
        },
        "trusted": true,
        "id": "rSjYw26KLfKf"
      },
      "execution_count": 13,
      "outputs": []
    },
    {
      "cell_type": "code",
      "source": [
        "predictions = []\n",
        "for fold in range(5):\n",
        "    print('*'*25+f\"Fold {fold}\"+'*'*25)\n",
        "    m_name = f'fold-{fold}'\n",
        "    dls = get_dls(fold, 'imagenet')\n",
        "    learn = vision_learner(dls, 'convit_small.fb_in1k',\n",
        "                           loss_func = CrossEntropyLossFlat(),\n",
        "                           metrics=[accuracy, error_rate, Precision(average='macro'), Recall(average='macro'), RocAuc(average='macro')])\n",
        "\n",
        "    learn.fine_tune(5, 0.07)\n",
        "\n",
        "    interp = ClassificationInterpretation.from_learner(learn)\n",
        "    losses,idxs = interp.top_losses()\n",
        "    len(dls.valid_ds)==len(losses)==len(idxs)\n",
        "    interp.plot_confusion_matrix(figsize=(7,7))\n",
        "\n",
        "    valid = learn.dls.valid\n",
        "    preds1 , targets = learn.tta(dl=valid, n=4)\n",
        "    print(accuracy(preds1 , targets))\n",
        "\n",
        "    test_dl = learn.dls.test_dl(trn_path + Test['filename'])\n",
        "    preds1 , _ = learn.tta(dl=test_dl)\n",
        "    preds1 = F.softmax(preds1, dim=1)\n",
        "    predictions.append(preds1)\n",
        "\n",
        "    free_memory([learn, preds1, dls])"
      ],
      "metadata": {
        "colab": {
          "base_uri": "https://localhost:8080/",
          "height": 504
        },
        "id": "TZkxgmaGLfKh",
        "outputId": "b77fb55a-8378-4564-bb9a-0baa7ee08c29"
      },
      "execution_count": null,
      "outputs": [
        {
          "output_type": "stream",
          "name": "stdout",
          "text": [
            "*************************Fold 0*************************\n"
          ]
        },
        {
          "output_type": "display_data",
          "data": {
            "text/plain": [
              "<IPython.core.display.HTML object>"
            ],
            "text/html": [
              "\n",
              "<style>\n",
              "    /* Turns off some styling */\n",
              "    progress {\n",
              "        /* gets rid of default border in Firefox and Opera. */\n",
              "        border: none;\n",
              "        /* Needs to be in here for Safari polyfill so background images work as expected. */\n",
              "        background-size: auto;\n",
              "    }\n",
              "    progress:not([value]), progress:not([value])::-webkit-progress-bar {\n",
              "        background: repeating-linear-gradient(45deg, #7e7e7e, #7e7e7e 10px, #5c5c5c 10px, #5c5c5c 20px);\n",
              "    }\n",
              "    .progress-bar-interrupted, .progress-bar-interrupted::-webkit-progress-bar {\n",
              "        background: #F44336;\n",
              "    }\n",
              "</style>\n"
            ]
          },
          "metadata": {}
        },
        {
          "output_type": "display_data",
          "data": {
            "text/plain": [
              "<IPython.core.display.HTML object>"
            ],
            "text/html": [
              "<table border=\"1\" class=\"dataframe\">\n",
              "  <thead>\n",
              "    <tr style=\"text-align: left;\">\n",
              "      <th>epoch</th>\n",
              "      <th>train_loss</th>\n",
              "      <th>valid_loss</th>\n",
              "      <th>accuracy</th>\n",
              "      <th>error_rate</th>\n",
              "      <th>precision_score</th>\n",
              "      <th>recall_score</th>\n",
              "      <th>roc_auc_score</th>\n",
              "      <th>time</th>\n",
              "    </tr>\n",
              "  </thead>\n",
              "  <tbody>\n",
              "    <tr>\n",
              "      <td>0</td>\n",
              "      <td>1.086639</td>\n",
              "      <td>0.997769</td>\n",
              "      <td>0.612581</td>\n",
              "      <td>0.387418</td>\n",
              "      <td>0.410447</td>\n",
              "      <td>0.369619</td>\n",
              "      <td>0.776958</td>\n",
              "      <td>16:01</td>\n",
              "    </tr>\n",
              "  </tbody>\n",
              "</table>"
            ]
          },
          "metadata": {}
        },
        {
          "output_type": "display_data",
          "data": {
            "text/plain": [
              "<IPython.core.display.HTML object>"
            ],
            "text/html": [
              "\n",
              "<style>\n",
              "    /* Turns off some styling */\n",
              "    progress {\n",
              "        /* gets rid of default border in Firefox and Opera. */\n",
              "        border: none;\n",
              "        /* Needs to be in here for Safari polyfill so background images work as expected. */\n",
              "        background-size: auto;\n",
              "    }\n",
              "    progress:not([value]), progress:not([value])::-webkit-progress-bar {\n",
              "        background: repeating-linear-gradient(45deg, #7e7e7e, #7e7e7e 10px, #5c5c5c 10px, #5c5c5c 20px);\n",
              "    }\n",
              "    .progress-bar-interrupted, .progress-bar-interrupted::-webkit-progress-bar {\n",
              "        background: #F44336;\n",
              "    }\n",
              "</style>\n"
            ]
          },
          "metadata": {}
        },
        {
          "output_type": "display_data",
          "data": {
            "text/plain": [
              "<IPython.core.display.HTML object>"
            ],
            "text/html": [
              "<table border=\"1\" class=\"dataframe\">\n",
              "  <thead>\n",
              "    <tr style=\"text-align: left;\">\n",
              "      <th>epoch</th>\n",
              "      <th>train_loss</th>\n",
              "      <th>valid_loss</th>\n",
              "      <th>accuracy</th>\n",
              "      <th>error_rate</th>\n",
              "      <th>precision_score</th>\n",
              "      <th>recall_score</th>\n",
              "      <th>roc_auc_score</th>\n",
              "      <th>time</th>\n",
              "    </tr>\n",
              "  </thead>\n",
              "  <tbody>\n",
              "    <tr>\n",
              "      <td>0</td>\n",
              "      <td>0.934874</td>\n",
              "      <td>0.942881</td>\n",
              "      <td>0.614691</td>\n",
              "      <td>0.385309</td>\n",
              "      <td>0.374066</td>\n",
              "      <td>0.411386</td>\n",
              "      <td>0.747456</td>\n",
              "      <td>16:36</td>\n",
              "    </tr>\n",
              "    <tr>\n",
              "      <td>1</td>\n",
              "      <td>1.150343</td>\n",
              "      <td>1.750756</td>\n",
              "      <td>0.290756</td>\n",
              "      <td>0.709244</td>\n",
              "      <td>0.239738</td>\n",
              "      <td>0.236778</td>\n",
              "      <td>0.567385</td>\n",
              "      <td>16:22</td>\n",
              "    </tr>\n",
              "    <tr>\n",
              "      <td>2</td>\n",
              "      <td>1.140432</td>\n",
              "      <td>1.133402</td>\n",
              "      <td>0.400077</td>\n",
              "      <td>0.599923</td>\n",
              "      <td>0.288753</td>\n",
              "      <td>0.248796</td>\n",
              "      <td>0.660861</td>\n",
              "      <td>16:23</td>\n",
              "    </tr>\n",
              "    <tr>\n",
              "      <td>3</td>\n",
              "      <td>0.985982</td>\n",
              "      <td>0.964114</td>\n",
              "      <td>0.567702</td>\n",
              "      <td>0.432298</td>\n",
              "      <td>0.458364</td>\n",
              "      <td>0.349746</td>\n",
              "      <td>0.771126</td>\n",
              "      <td>16:34</td>\n",
              "    </tr>\n",
              "    <tr>\n",
              "      <td>4</td>\n",
              "      <td>0.923252</td>\n",
              "      <td>0.980287</td>\n",
              "      <td>0.606444</td>\n",
              "      <td>0.393556</td>\n",
              "      <td>0.369591</td>\n",
              "      <td>0.369987</td>\n",
              "      <td>0.793785</td>\n",
              "      <td>17:24</td>\n",
              "    </tr>\n",
              "  </tbody>\n",
              "</table>"
            ]
          },
          "metadata": {}
        },
        {
          "output_type": "display_data",
          "data": {
            "text/plain": [
              "<IPython.core.display.HTML object>"
            ],
            "text/html": [
              "\n",
              "<style>\n",
              "    /* Turns off some styling */\n",
              "    progress {\n",
              "        /* gets rid of default border in Firefox and Opera. */\n",
              "        border: none;\n",
              "        /* Needs to be in here for Safari polyfill so background images work as expected. */\n",
              "        background-size: auto;\n",
              "    }\n",
              "    progress:not([value]), progress:not([value])::-webkit-progress-bar {\n",
              "        background: repeating-linear-gradient(45deg, #7e7e7e, #7e7e7e 10px, #5c5c5c 10px, #5c5c5c 20px);\n",
              "    }\n",
              "    .progress-bar-interrupted, .progress-bar-interrupted::-webkit-progress-bar {\n",
              "        background: #F44336;\n",
              "    }\n",
              "</style>\n"
            ]
          },
          "metadata": {}
        },
        {
          "output_type": "display_data",
          "data": {
            "text/plain": [
              "<IPython.core.display.HTML object>"
            ],
            "text/html": []
          },
          "metadata": {}
        },
        {
          "output_type": "display_data",
          "data": {
            "text/plain": [
              "<IPython.core.display.HTML object>"
            ],
            "text/html": [
              "\n",
              "<style>\n",
              "    /* Turns off some styling */\n",
              "    progress {\n",
              "        /* gets rid of default border in Firefox and Opera. */\n",
              "        border: none;\n",
              "        /* Needs to be in here for Safari polyfill so background images work as expected. */\n",
              "        background-size: auto;\n",
              "    }\n",
              "    progress:not([value]), progress:not([value])::-webkit-progress-bar {\n",
              "        background: repeating-linear-gradient(45deg, #7e7e7e, #7e7e7e 10px, #5c5c5c 10px, #5c5c5c 20px);\n",
              "    }\n",
              "    .progress-bar-interrupted, .progress-bar-interrupted::-webkit-progress-bar {\n",
              "        background: #F44336;\n",
              "    }\n",
              "</style>\n"
            ]
          },
          "metadata": {}
        },
        {
          "output_type": "display_data",
          "data": {
            "text/plain": [
              "<IPython.core.display.HTML object>"
            ],
            "text/html": []
          },
          "metadata": {}
        },
        {
          "output_type": "display_data",
          "data": {
            "text/plain": [
              "<IPython.core.display.HTML object>"
            ],
            "text/html": [
              "\n",
              "<style>\n",
              "    /* Turns off some styling */\n",
              "    progress {\n",
              "        /* gets rid of default border in Firefox and Opera. */\n",
              "        border: none;\n",
              "        /* Needs to be in here for Safari polyfill so background images work as expected. */\n",
              "        background-size: auto;\n",
              "    }\n",
              "    progress:not([value]), progress:not([value])::-webkit-progress-bar {\n",
              "        background: repeating-linear-gradient(45deg, #7e7e7e, #7e7e7e 10px, #5c5c5c 10px, #5c5c5c 20px);\n",
              "    }\n",
              "    .progress-bar-interrupted, .progress-bar-interrupted::-webkit-progress-bar {\n",
              "        background: #F44336;\n",
              "    }\n",
              "</style>\n"
            ]
          },
          "metadata": {}
        },
        {
          "output_type": "display_data",
          "data": {
            "text/plain": [
              "<IPython.core.display.HTML object>"
            ],
            "text/html": [
              "\n",
              "    <div>\n",
              "      <progress value='0' class='' max='5' style='width:300px; height:20px; vertical-align: middle;'></progress>\n",
              "      \n",
              "    </div>\n",
              "    \n"
            ]
          },
          "metadata": {}
        },
        {
          "output_type": "display_data",
          "data": {
            "text/plain": [
              "<IPython.core.display.HTML object>"
            ],
            "text/html": [
              "\n",
              "<style>\n",
              "    /* Turns off some styling */\n",
              "    progress {\n",
              "        /* gets rid of default border in Firefox and Opera. */\n",
              "        border: none;\n",
              "        /* Needs to be in here for Safari polyfill so background images work as expected. */\n",
              "        background-size: auto;\n",
              "    }\n",
              "    progress:not([value]), progress:not([value])::-webkit-progress-bar {\n",
              "        background: repeating-linear-gradient(45deg, #7e7e7e, #7e7e7e 10px, #5c5c5c 10px, #5c5c5c 20px);\n",
              "    }\n",
              "    .progress-bar-interrupted, .progress-bar-interrupted::-webkit-progress-bar {\n",
              "        background: #F44336;\n",
              "    }\n",
              "</style>\n"
            ]
          },
          "metadata": {}
        },
        {
          "output_type": "display_data",
          "data": {
            "text/plain": [
              "<IPython.core.display.HTML object>"
            ],
            "text/html": []
          },
          "metadata": {}
        },
        {
          "output_type": "stream",
          "name": "stdout",
          "text": [
            "TensorBase(0.6061)\n"
          ]
        },
        {
          "output_type": "display_data",
          "data": {
            "text/plain": [
              "<IPython.core.display.HTML object>"
            ],
            "text/html": [
              "\n",
              "<style>\n",
              "    /* Turns off some styling */\n",
              "    progress {\n",
              "        /* gets rid of default border in Firefox and Opera. */\n",
              "        border: none;\n",
              "        /* Needs to be in here for Safari polyfill so background images work as expected. */\n",
              "        background-size: auto;\n",
              "    }\n",
              "    progress:not([value]), progress:not([value])::-webkit-progress-bar {\n",
              "        background: repeating-linear-gradient(45deg, #7e7e7e, #7e7e7e 10px, #5c5c5c 10px, #5c5c5c 20px);\n",
              "    }\n",
              "    .progress-bar-interrupted, .progress-bar-interrupted::-webkit-progress-bar {\n",
              "        background: #F44336;\n",
              "    }\n",
              "</style>\n"
            ]
          },
          "metadata": {}
        },
        {
          "output_type": "display_data",
          "data": {
            "text/plain": [
              "<IPython.core.display.HTML object>"
            ],
            "text/html": [
              "\n",
              "    <div>\n",
              "      <progress value='0' class='' max='5' style='width:300px; height:20px; vertical-align: middle;'></progress>\n",
              "      \n",
              "    </div>\n",
              "    \n"
            ]
          },
          "metadata": {}
        },
        {
          "output_type": "display_data",
          "data": {
            "text/plain": [
              "<IPython.core.display.HTML object>"
            ],
            "text/html": [
              "\n",
              "<style>\n",
              "    /* Turns off some styling */\n",
              "    progress {\n",
              "        /* gets rid of default border in Firefox and Opera. */\n",
              "        border: none;\n",
              "        /* Needs to be in here for Safari polyfill so background images work as expected. */\n",
              "        background-size: auto;\n",
              "    }\n",
              "    progress:not([value]), progress:not([value])::-webkit-progress-bar {\n",
              "        background: repeating-linear-gradient(45deg, #7e7e7e, #7e7e7e 10px, #5c5c5c 10px, #5c5c5c 20px);\n",
              "    }\n",
              "    .progress-bar-interrupted, .progress-bar-interrupted::-webkit-progress-bar {\n",
              "        background: #F44336;\n",
              "    }\n",
              "</style>\n"
            ]
          },
          "metadata": {}
        },
        {
          "output_type": "display_data",
          "data": {
            "text/plain": [
              "<IPython.core.display.HTML object>"
            ],
            "text/html": []
          },
          "metadata": {}
        },
        {
          "output_type": "stream",
          "name": "stdout",
          "text": [
            "*************************Fold 1*************************\n"
          ]
        },
        {
          "output_type": "display_data",
          "data": {
            "text/plain": [
              "<IPython.core.display.HTML object>"
            ],
            "text/html": [
              "\n",
              "<style>\n",
              "    /* Turns off some styling */\n",
              "    progress {\n",
              "        /* gets rid of default border in Firefox and Opera. */\n",
              "        border: none;\n",
              "        /* Needs to be in here for Safari polyfill so background images work as expected. */\n",
              "        background-size: auto;\n",
              "    }\n",
              "    progress:not([value]), progress:not([value])::-webkit-progress-bar {\n",
              "        background: repeating-linear-gradient(45deg, #7e7e7e, #7e7e7e 10px, #5c5c5c 10px, #5c5c5c 20px);\n",
              "    }\n",
              "    .progress-bar-interrupted, .progress-bar-interrupted::-webkit-progress-bar {\n",
              "        background: #F44336;\n",
              "    }\n",
              "</style>\n"
            ]
          },
          "metadata": {}
        },
        {
          "output_type": "display_data",
          "data": {
            "text/plain": [
              "<IPython.core.display.HTML object>"
            ],
            "text/html": [
              "<table border=\"1\" class=\"dataframe\">\n",
              "  <thead>\n",
              "    <tr style=\"text-align: left;\">\n",
              "      <th>epoch</th>\n",
              "      <th>train_loss</th>\n",
              "      <th>valid_loss</th>\n",
              "      <th>accuracy</th>\n",
              "      <th>error_rate</th>\n",
              "      <th>precision_score</th>\n",
              "      <th>recall_score</th>\n",
              "      <th>roc_auc_score</th>\n",
              "      <th>time</th>\n",
              "    </tr>\n",
              "  </thead>\n",
              "  <tbody>\n",
              "    <tr>\n",
              "      <td>0</td>\n",
              "      <td>1.090988</td>\n",
              "      <td>0.953758</td>\n",
              "      <td>0.590334</td>\n",
              "      <td>0.409666</td>\n",
              "      <td>0.393827</td>\n",
              "      <td>0.359499</td>\n",
              "      <td>0.807032</td>\n",
              "      <td>15:35</td>\n",
              "    </tr>\n",
              "  </tbody>\n",
              "</table>"
            ]
          },
          "metadata": {}
        },
        {
          "output_type": "display_data",
          "data": {
            "text/plain": [
              "<IPython.core.display.HTML object>"
            ],
            "text/html": [
              "\n",
              "<style>\n",
              "    /* Turns off some styling */\n",
              "    progress {\n",
              "        /* gets rid of default border in Firefox and Opera. */\n",
              "        border: none;\n",
              "        /* Needs to be in here for Safari polyfill so background images work as expected. */\n",
              "        background-size: auto;\n",
              "    }\n",
              "    progress:not([value]), progress:not([value])::-webkit-progress-bar {\n",
              "        background: repeating-linear-gradient(45deg, #7e7e7e, #7e7e7e 10px, #5c5c5c 10px, #5c5c5c 20px);\n",
              "    }\n",
              "    .progress-bar-interrupted, .progress-bar-interrupted::-webkit-progress-bar {\n",
              "        background: #F44336;\n",
              "    }\n",
              "</style>\n"
            ]
          },
          "metadata": {}
        },
        {
          "output_type": "display_data",
          "data": {
            "text/plain": [
              "<IPython.core.display.HTML object>"
            ],
            "text/html": [
              "\n",
              "    <div>\n",
              "      <progress value='0' class='' max='5' style='width:300px; height:20px; vertical-align: middle;'></progress>\n",
              "      0.00% [0/5 00:00&lt;?]\n",
              "    </div>\n",
              "    \n",
              "<table border=\"1\" class=\"dataframe\">\n",
              "  <thead>\n",
              "    <tr style=\"text-align: left;\">\n",
              "      <th>epoch</th>\n",
              "      <th>train_loss</th>\n",
              "      <th>valid_loss</th>\n",
              "      <th>accuracy</th>\n",
              "      <th>error_rate</th>\n",
              "      <th>precision_score</th>\n",
              "      <th>recall_score</th>\n",
              "      <th>roc_auc_score</th>\n",
              "      <th>time</th>\n",
              "    </tr>\n",
              "  </thead>\n",
              "  <tbody>\n",
              "  </tbody>\n",
              "</table><p>\n",
              "\n",
              "    <div>\n",
              "      <progress value='311' class='' max='325' style='width:300px; height:20px; vertical-align: middle;'></progress>\n",
              "      95.69% [311/325 13:06&lt;00:35 0.9664]\n",
              "    </div>\n",
              "    "
            ]
          },
          "metadata": {}
        }
      ]
    },
    {
      "cell_type": "code",
      "source": [
        "pred1 = 0\n",
        "for i in range(5):\n",
        "    pred1 += predictions[i]\n",
        "pred1 /= 5"
      ],
      "metadata": {
        "id": "ay8e3WeNLfKj"
      },
      "execution_count": null,
      "outputs": []
    },
    {
      "cell_type": "code",
      "source": [
        "submission_sf = pd.DataFrame({\n",
        "\n",
        "    'ID': Test['ID'],\n",
        "    'DR': preds1[:, 0].squeeze().numpy(),\n",
        "    'G' : preds1[:, 1].squeeze().numpy(),\n",
        "    'ND': preds1[:, 2].squeeze().numpy(),\n",
        "    'WD': preds1[:, 3].squeeze().numpy(),\n",
        "    'other': preds1[:, 4].squeeze().numpy(),\n",
        "})\n",
        "submission_sf.to_csv('convitfold.csv', index=False)"
      ],
      "metadata": {
        "execution": {
          "iopub.status.busy": "2024-01-09T14:36:42.627892Z",
          "iopub.status.idle": "2024-01-09T14:36:42.628261Z",
          "shell.execute_reply.started": "2024-01-09T14:36:42.628089Z",
          "shell.execute_reply": "2024-01-09T14:36:42.628106Z"
        },
        "trusted": true,
        "id": "szJhXo48LfKl"
      },
      "execution_count": null,
      "outputs": []
    },
    {
      "cell_type": "code",
      "source": [
        "submission_sf"
      ],
      "metadata": {
        "execution": {
          "iopub.status.busy": "2024-01-09T14:36:42.629419Z",
          "iopub.status.idle": "2024-01-09T14:36:42.629728Z",
          "shell.execute_reply.started": "2024-01-09T14:36:42.629574Z",
          "shell.execute_reply": "2024-01-09T14:36:42.629589Z"
        },
        "trusted": true,
        "id": "6iRx8WqzLfKm"
      },
      "execution_count": null,
      "outputs": []
    }
  ]
}