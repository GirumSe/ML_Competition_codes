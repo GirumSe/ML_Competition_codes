{
 "cells": [
  {
   "attachments": {},
   "cell_type": "markdown",
   "metadata": {},
   "source": [
    "IMPORT\n"
   ]
  },
  {
   "cell_type": "code",
   "execution_count": 60,
   "metadata": {},
   "outputs": [],
   "source": [
    "import pandas as pd\n",
    "import numpy as np\n",
    "\n",
    "from sklearn.linear_model import Lasso\n",
    "from sklearn.metrics import mean_squared_error\n",
    "from sklearn.preprocessing import MinMaxScaler\n",
    "\n",
    "from xgboost import XGBRegressor\n",
    "\n",
    "import warnings\n",
    "warnings.filterwarnings('ignore')\n",
    "\n",
    "pd.options.display.max_columns = 2000\n",
    "pd.options.display.max_rows = 2000\n",
    "\n",
    "\n",
    "cpi_pivot = pd.read_csv('CPI_Historic_Values_Zindi_Latest.csv')\n",
    "cpi_pivot['Month'] = pd.to_datetime(cpi_pivot['Month'])\n",
    "petrol = pd.read_csv('petrolem.csv')\n",
    "lending = pd.read_csv('historical_prime_lending_rates.csv')\n",
    "lending = lending.ffill()\n",
    "seed = 3"
   ]
  },
  {
   "attachments": {},
   "cell_type": "markdown",
   "metadata": {},
   "source": [
    "ADD THE september ROW\n"
   ]
  },
  {
   "cell_type": "code",
   "execution_count": 61,
   "metadata": {},
   "outputs": [],
   "source": [
    "date_str = '2023-10-31'\n",
    "date_obj = pd.to_datetime(date_str)\n",
    "new_row = pd.DataFrame({'Month': [date_obj]})\n",
    "cpi_pivot = pd.concat([cpi_pivot, new_row]).reset_index(drop=True)"
   ]
  },
  {
   "attachments": {},
   "cell_type": "markdown",
   "metadata": {},
   "source": [
    "FEATURE ENGINNERING\n"
   ]
  },
  {
   "cell_type": "code",
   "execution_count": 62,
   "metadata": {},
   "outputs": [],
   "source": [
    "feats_to_lag = cpi_pivot.columns[1:].to_list()\n",
    "for col in feats_to_lag:\n",
    "    for i in range(1,5):\n",
    "        cpi_pivot[f'prev_{i}_month_{col}'] = cpi_pivot[col].shift(i)\n",
    "columns = list(cpi_pivot.columns)\n",
    "columns = [item for item in columns if \"Transport\" not in item]"
   ]
  },
  {
   "cell_type": "code",
   "execution_count": 63,
   "metadata": {},
   "outputs": [],
   "source": [
    "petrol['Month'] = pd.to_datetime(petrol['Month'])\n",
    "petrol = petrol.sort_values(\"Month\").reset_index(drop=True)\n",
    "feats_to_lag = petrol.columns[1:].to_list()\n",
    "for col in feats_to_lag:\n",
    "    for i in range(1,5):\n",
    "        petrol[f'prev_{i}_month_{col}'] = petrol[col].shift(i)\n",
    "start_date = pd.to_datetime('2022-01-31')\n",
    "end_date = pd.to_datetime('2023-10-31')\n",
    "petrol = petrol[(petrol['Month'] >= start_date) & (petrol['Month'] <= end_date)]\n",
    "cpi_pivot = pd.merge(cpi_pivot, petrol, on='Month', suffixes=('_df1', '_df2'))"
   ]
  },
  {
   "cell_type": "code",
   "execution_count": 64,
   "metadata": {},
   "outputs": [],
   "source": [
    "lending['Interest_per_annum'] = lending['Interest_per_annum'].str.rstrip('%').astype(float).astype(int)\n",
    "lending['Month'] = pd.to_datetime(lending['Month'])\n",
    "lending = lending.sort_values(\"Month\").reset_index(drop=True)\n",
    "feats_to_lag = lending.columns[1:].to_list()\n",
    "for col in feats_to_lag:\n",
    "    for i in range(1,5):\n",
    "        lending[f'prev_{i}_month_{col}'] = lending[col].shift(i)\n",
    "start_date = pd.to_datetime('2022-01-31')\n",
    "end_date = pd.to_datetime('2023-10-31')\n",
    "lending = lending[(lending['Month'] >= start_date) & (lending['Month'] <= end_date)]\n",
    "cpi_pivot = pd.merge(cpi_pivot, lending, on='Month', suffixes=('_df1', '_df2'))"
   ]
  },
  {
   "cell_type": "code",
   "execution_count": 65,
   "metadata": {},
   "outputs": [],
   "source": [
    "petcol = list(petrol.columns)\n",
    "search_strings = [\"petrol95\" ,\"randuS_exchenge\" ]\n",
    "petcol = [item for item in petcol if all(search_str not in item for search_str in search_strings)]\n",
    "petcol = petcol[1:]"
   ]
  },
  {
   "attachments": {},
   "cell_type": "markdown",
   "metadata": {},
   "source": [
    "HANDLE MISSING DATA\n"
   ]
  },
  {
   "cell_type": "code",
   "execution_count": 66,
   "metadata": {},
   "outputs": [],
   "source": [
    "cpi_pivot = cpi_pivot.drop(0)\n",
    "cpi_pivot = cpi_pivot.bfill()"
   ]
  },
  {
   "attachments": {},
   "cell_type": "markdown",
   "metadata": {},
   "source": [
    "TRAIN AND VALIDATION\n"
   ]
  },
  {
   "cell_type": "code",
   "execution_count": 67,
   "metadata": {},
   "outputs": [
    {
     "data": {
      "text/plain": [
       "((20, 101), (1, 101), (19, 101), (1, 101))"
      ]
     },
     "execution_count": 67,
     "metadata": {},
     "output_type": "execute_result"
    }
   ],
   "source": [
    "train = cpi_pivot[cpi_pivot['Month'] != \"2023-10-31\"]\n",
    "test = cpi_pivot[cpi_pivot['Month'] == \"2023-10-31\"]\n",
    "\n",
    "training_set = train[train['Month']!= '2023-09-30']\n",
    "validation_set = train[train['Month']== '2023-09-30']\n",
    "\n",
    "train.shape, test.shape, training_set.shape, validation_set.shape"
   ]
  },
  {
   "attachments": {},
   "cell_type": "markdown",
   "metadata": {},
   "source": [
    "MODELING\n"
   ]
  },
  {
   "cell_type": "code",
   "execution_count": 68,
   "metadata": {},
   "outputs": [
    {
     "name": "stdout",
     "output_type": "stream",
     "text": [
      "RMSE of Lasso Regression for Headline_CPI: 1.184000064834862\n",
      "RMSE of Lasso Regression for Food and non-alcoholic beverages: 0.23147957980293654\n",
      "RMSE of Lasso Regression for Alcoholic beverages and tobacco: 0.19323482735995867\n",
      "RMSE of Lasso Regression for Clothing and footwear: 0.6554557801417218\n",
      "RMSE of Lasso Regression for Housing and utilities: 1.3285927884404884\n",
      "RMSE of Lasso Regression for Household contents and services: 0.6216047108684961\n",
      "RMSE of Lasso Regression for Health: 0.06000087141855204\n",
      "RMSE of Lasso Regression for Transport: 3.8042327880859403\n",
      "RMSE of Lasso Regression for Communication: 0.16842105263157237\n",
      "RMSE of Lasso Regression for Recreation and culture: 1.0916450752411464\n",
      "RMSE of Lasso Regression for Education: 0.2488436470519133\n",
      "RMSE of Lasso Regression for Restaurants and hotels : 0.8649814717099247\n",
      "RMSE of Lasso Regression for Miscellaneous goods and services: 0.1365390392851964\n",
      "Average RMSE of Lasso Regression: 0.8145408997594392\n"
     ]
    }
   ],
   "source": [
    "target_cols = ['Headline_CPI', 'Food and non-alcoholic beverages', 'Alcoholic beverages and tobacco', \n",
    "               'Clothing and footwear', 'Housing and utilities', 'Household contents and services',\n",
    "               'Health', 'Transport', 'Communication', 'Recreation and culture', \n",
    "               'Education', 'Restaurants and hotels ', 'Miscellaneous goods and services',]\n",
    "\n",
    "#if you add additional data sources that have no value in the predicting month , drop it, now that you have their lags\n",
    "features= [col for col in train.columns if col not in target_cols + ['Month']]\n",
    "featurest= [col for col in train.columns if col not in columns + ['Transport']]\n",
    "\n",
    "X_train = training_set[features]\n",
    "X_traint = training_set[featurest]\n",
    "y_train = training_set[target_cols]\n",
    "\n",
    "X_val = validation_set[features]\n",
    "X_valt = validation_set[featurest]\n",
    "y_val = validation_set[target_cols]\n",
    "\n",
    "l_models = {}\n",
    "\n",
    "y_predl = []\n",
    "\n",
    "rmsel_dict = {} \n",
    "\n",
    "scaler = MinMaxScaler()\n",
    "\n",
    "#training\n",
    "for target_col in target_cols:\n",
    "    if target_col == \"Transport\":\n",
    "        l_model = XGBRegressor(seed=seed)\n",
    "        X_train_scaled = scaler.fit_transform(X_traint)\n",
    "\n",
    "        l_model.fit(X_train_scaled, y_train[target_col])\n",
    "\n",
    "        l_models[target_col] = l_model\n",
    "        \n",
    "        l_model = l_models[target_col]\n",
    "\n",
    "        X_val_scaled = scaler.transform(X_valt)\n",
    "\n",
    "        y_pred_coll = l_model.predict(X_val_scaled)\n",
    "\n",
    "        rmsel_col = np.sqrt(mean_squared_error(y_pred_coll, y_val[target_col]))\n",
    "        rmsel_dict[target_col] = rmsel_col \n",
    "\n",
    "        y_predl.append(y_pred_coll)\n",
    "    else:\n",
    "        l_model = Lasso(alpha=0.06, random_state=seed)\n",
    "        \n",
    "        X_train_scaled = scaler.fit_transform(X_train)\n",
    "\n",
    "        l_model.fit(X_train_scaled, y_train[target_col])\n",
    "\n",
    "        l_models[target_col] = l_model\n",
    "        \n",
    "        l_model = l_models[target_col]\n",
    "\n",
    "        X_val_scaled = scaler.transform(X_val)\n",
    "\n",
    "        y_pred_coll = l_model.predict(X_val_scaled)\n",
    "\n",
    "        rmsel_col = np.sqrt(mean_squared_error(y_pred_coll, y_val[target_col]))\n",
    "        rmsel_dict[target_col] = rmsel_col \n",
    "\n",
    "        y_predl.append(y_pred_coll)\n",
    "\n",
    "# scoring\n",
    "y_predl = np.array(y_predl).T\n",
    "y_predl[:,0][0] = ((6.26 * y_predl[:,2][0]) + (3.65 * y_predl[:,3][0]) + (2.42 * y_predl[:,8][0]) \n",
    "                   + (2.62 * y_predl[:,10][0]) + (17.14 * y_predl[:,1][0]) + (1.44 * y_predl[:,6][0]) + \n",
    "                   (4.37 * y_predl[:,5][0]) \n",
    "                   + (24.49 * y_predl[:,4][0]) + (14.81 * y_predl[:,12][0]) + (5.2 * y_predl[:,9][0]) + \n",
    "                   (3.25 * y_predl[:,11][0]) + (14.35 * y_predl[:,7][0]))/100\n",
    "dfl = pd.DataFrame({'y_pred': y_predl.flatten(), 'y_val': y_val.values.flatten()})\n",
    "\n",
    "# Print RMSE for each target column\n",
    "for target_col in target_cols:\n",
    "    print(f'RMSE of Lasso Regression for {target_col}: {rmsel_dict[target_col]}')\n",
    "\n",
    "# Calculate the average RMSE across all target columns\n",
    "average_rmse = np.mean(list(rmsel_dict.values()))\n",
    "print(f'Average RMSE of Lasso Regression: {average_rmse}')"
   ]
  },
  {
   "cell_type": "code",
   "execution_count": 69,
   "metadata": {},
   "outputs": [
    {
     "name": "stdout",
     "output_type": "stream",
     "text": [
      "prediction of Lasso Regression: [[111.34081192 119.20100295 111.2518401  104.27013469 108.56127292\n",
      "  108.81340804 111.04588287 114.81813049  99.66       105.61749322\n",
      "  110.7634362  110.63957009 110.19987235]]\n"
     ]
    }
   ],
   "source": [
    "X_train = train[features]\n",
    "X_traint = train[featurest]\n",
    "y_train = train[target_cols]\n",
    "\n",
    "X_val = test[features]\n",
    "X_valt = test[featurest]\n",
    "y_val = test[target_cols]\n",
    "\n",
    "l_models = {}\n",
    "\n",
    "y_predl = []\n",
    "\n",
    "scaler = MinMaxScaler()\n",
    "\n",
    "#training\n",
    "for target_col in target_cols:\n",
    "    if target_col == \"Transport\":\n",
    "        l_model = XGBRegressor(seed=seed)\n",
    "        X_train_scaled = scaler.fit_transform(X_traint)\n",
    "\n",
    "        l_model.fit(X_train_scaled, y_train[target_col])\n",
    "\n",
    "        l_models[target_col] = l_model\n",
    "        l_model = l_models[target_col]\n",
    "\n",
    "        X_val_scaled = scaler.transform(X_valt)\n",
    "\n",
    "        y_pred_coll = l_model.predict(X_val_scaled)\n",
    "\n",
    "        y_predl.append(y_pred_coll)\n",
    "    else:\n",
    "        l_model = Lasso(alpha=0.06, random_state=seed)\n",
    "\n",
    "        X_train_scaled = scaler.fit_transform(X_train)\n",
    "\n",
    "        l_model.fit(X_train_scaled, y_train[target_col])\n",
    "\n",
    "        l_models[target_col] = l_model\n",
    "        l_model = l_models[target_col]\n",
    "\n",
    "        X_val_scaled = scaler.transform(X_val)\n",
    "\n",
    "        y_pred_coll = l_model.predict(X_val_scaled)\n",
    "\n",
    "        y_predl.append(y_pred_coll)\n",
    "\n",
    "y_predl = np.array(y_predl).T\n",
    "y_predl[:,0][0] = ((6.26 * y_predl[:,2][0]) + (3.65 * y_predl[:,3][0]) + (2.42 * y_predl[:,8][0]) \n",
    "                   + (2.62 * y_predl[:,10][0]) + (17.14 * y_predl[:,1][0]) + (1.44 * y_predl[:,6][0]) + \n",
    "                   (4.37 * y_predl[:,5][0]) \n",
    "                   + (24.49 * y_predl[:,4][0]) + (14.81 * y_predl[:,12][0]) + (5.2 * y_predl[:,9][0]) + \n",
    "                   (3.25 * y_predl[:,11][0]) + (14.35 * y_predl[:,7][0]))/100\n",
    "\n",
    "print(f'prediction of Lasso Regression: {y_predl}') "
   ]
  },
  {
   "cell_type": "code",
   "execution_count": 70,
   "metadata": {},
   "outputs": [],
   "source": [
    "def prepSub(template_df, month_name, cpi_values):\n",
    "    \"\"\"\n",
    "    Args:\n",
    "        template_df (pd.DataFrame): The DataFrame template.\n",
    "        month_name (str): The name of the month (e.g., \"September\").\n",
    "        cpi_values (np.ndarray): Numpy ndarray containing CPI values.\n",
    "\n",
    "    Returns:\n",
    "        pd.DataFrame: The modified DataFrame with CPI values\n",
    "    \"\"\"\n",
    "    # Find the starting row index for the given month\n",
    "    month_index = template_df.index[template_df['ID'].str.startswith(month_name)].tolist()\n",
    "    \n",
    "    if not month_index:\n",
    "        raise ValueError(f\"Month '{month_name}' not found in the template.\")\n",
    "\n",
    "    start_row = month_index[0]\n",
    "    cpi_values = cpi_values.squeeze()\n",
    "    # Update CPI values iteratively in the DataFrame\n",
    "    for i, value in enumerate(cpi_values):\n",
    "        template_df.at[start_row + i, 'Value'] = value\n",
    "\n",
    "    return template_df"
   ]
  },
  {
   "cell_type": "code",
   "execution_count": 71,
   "metadata": {},
   "outputs": [],
   "source": [
    "ss = pd.read_csv(\"September.csv\")"
   ]
  },
  {
   "cell_type": "code",
   "execution_count": 72,
   "metadata": {},
   "outputs": [],
   "source": [
    "sub = prepSub(ss,\"October\", y_predl) \n",
    "sub.to_csv('October.csv', index=False)"
   ]
  }
 ],
 "metadata": {
  "kernelspec": {
   "display_name": "base",
   "language": "python",
   "name": "python3"
  },
  "language_info": {
   "codemirror_mode": {
    "name": "ipython",
    "version": 3
   },
   "file_extension": ".py",
   "mimetype": "text/x-python",
   "name": "python",
   "nbconvert_exporter": "python",
   "pygments_lexer": "ipython3",
   "version": "3.10.9"
  },
  "orig_nbformat": 4
 },
 "nbformat": 4,
 "nbformat_minor": 2
}
