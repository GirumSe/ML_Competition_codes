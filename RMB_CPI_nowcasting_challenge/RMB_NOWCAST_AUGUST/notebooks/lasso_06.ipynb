{
 "cells": [
  {
   "attachments": {},
   "cell_type": "markdown",
   "metadata": {},
   "source": [
    "IMPORT\n"
   ]
  },
  {
   "cell_type": "code",
   "execution_count": 138,
   "metadata": {},
   "outputs": [],
   "source": [
    "import pandas as pd\n",
    "import numpy as np\n",
    "import seaborn as sns\n",
    "import matplotlib.pyplot as plt\n",
    "\n",
    "import math\n",
    "\n",
    "\n",
    "from sklearn.linear_model import LinearRegression, Ridge, Lasso, ElasticNet\n",
    "from sklearn.preprocessing import PolynomialFeatures\n",
    "from statsmodels.api import OLS\n",
    "import statsmodels.api as sm\n",
    "from sklearn.metrics import mean_squared_error\n",
    "from sklearn.preprocessing import StandardScaler, MinMaxScaler\n",
    "\n",
    "from xgboost import XGBRegressor\n",
    "\n",
    "import warnings\n",
    "warnings.filterwarnings('ignore')\n",
    "\n",
    "pd.options.display.max_columns = 2000\n",
    "pd.options.display.max_rows = 2000\n",
    "\n",
    "\n",
    "#path = '/Koding_With_Kolesh/challenges/RMB_NOWCAST_APRIL/'\n",
    "cpi = pd.read_csv('CPI_Historic_Values_Zindi_May_23.csv')\n",
    "#vehicles = pd.read_csv('Naamsa_Vehicle_Sales.csv')\n",
    "seed = 3"
   ]
  },
  {
   "attachments": {},
   "cell_type": "markdown",
   "metadata": {},
   "source": [
    "PIVOTING THE DATA\n"
   ]
  },
  {
   "cell_type": "code",
   "execution_count": 139,
   "metadata": {},
   "outputs": [],
   "source": [
    "cpi_pivot = cpi.pivot(index = 'Month', columns = 'Category', values = 'Value').reset_index()#changing from a long format to a wide format,\n",
    "cpi_pivot['Month'] = pd.to_datetime(cpi_pivot['Month'])\n",
    "cpi_pivot = cpi_pivot.sort_values(\"Month\").reset_index(drop=True)"
   ]
  },
  {
   "attachments": {},
   "cell_type": "markdown",
   "metadata": {},
   "source": [
    "ADDING JUNE'S DATA MANUALLY FROM https://www.statssa.gov.za/publications/P0141/P0141June2023.pdf\n"
   ]
  },
  {
   "cell_type": "code",
   "execution_count": 140,
   "metadata": {},
   "outputs": [],
   "source": [
    "date_str = '2023-06-30'\n",
    "date_obj = pd.to_datetime(date_str)\n",
    "new_row = pd.DataFrame({'Month': [date_obj]})\n",
    "cpi_pivot = pd.concat([cpi_pivot, new_row]).reset_index(drop=True)\n",
    "cpi_of_june = [110.9, 104.3, 99.6, 110.4, 118.3, 109.8, 110.8, 107.7, 105.4, 109.6, 105.3, 110.0, 112.3]\n",
    "\n",
    "for i, col in enumerate(cpi_pivot.columns[1:]):\n",
    "    cpi_pivot.at[17, col] = cpi_of_june[i]"
   ]
  },
  {
   "attachments": {},
   "cell_type": "markdown",
   "metadata": {},
   "source": [
    "ADD THE july ROW\n"
   ]
  },
  {
   "cell_type": "code",
   "execution_count": 141,
   "metadata": {},
   "outputs": [],
   "source": [
    "date_str = '2023-07-31'\n",
    "date_obj = pd.to_datetime(date_str)\n",
    "new_row = pd.DataFrame({'Month': [date_obj]})\n",
    "cpi_pivot = pd.concat([cpi_pivot, new_row]).reset_index(drop=True)"
   ]
  },
  {
   "attachments": {},
   "cell_type": "markdown",
   "metadata": {},
   "source": [
    "FEATURE ENGINNERING\n"
   ]
  },
  {
   "cell_type": "code",
   "execution_count": 142,
   "metadata": {},
   "outputs": [],
   "source": [
    "feats_to_lag = cpi_pivot.columns[1:].to_list()\n",
    "for col in feats_to_lag:\n",
    "    for i in range(1,6):\n",
    "        cpi_pivot[f'prev_{i}_month_{col}'] = cpi_pivot[col].shift(i)"
   ]
  },
  {
   "attachments": {},
   "cell_type": "markdown",
   "metadata": {},
   "source": [
    "HANDLE MISSING DATA\n"
   ]
  },
  {
   "cell_type": "code",
   "execution_count": 143,
   "metadata": {},
   "outputs": [],
   "source": [
    "cpi_pivot = cpi_pivot.drop(0)\n",
    "cpi_pivot = cpi_pivot.bfill()"
   ]
  },
  {
   "attachments": {},
   "cell_type": "markdown",
   "metadata": {},
   "source": [
    "TRAIN AND VALIDATION\n"
   ]
  },
  {
   "cell_type": "code",
   "execution_count": 144,
   "metadata": {},
   "outputs": [
    {
     "data": {
      "text/plain": [
       "((17, 79), (1, 79), (16, 79), (1, 79))"
      ]
     },
     "execution_count": 144,
     "metadata": {},
     "output_type": "execute_result"
    }
   ],
   "source": [
    "train = cpi_pivot[cpi_pivot['Month'] != \"2023-07-31\"]\n",
    "test = cpi_pivot[cpi_pivot['Month'] == \"2023-07-31\"]\n",
    "\n",
    "training_set = train[train['Month']!= '2023-06-30']\n",
    "validation_set = train[train['Month']== '2023-06-30']\n",
    "\n",
    "train.shape, test.shape, training_set.shape, validation_set.shape"
   ]
  },
  {
   "attachments": {},
   "cell_type": "markdown",
   "metadata": {},
   "source": [
    "MODELING\n"
   ]
  },
  {
   "cell_type": "code",
   "execution_count": 145,
   "metadata": {},
   "outputs": [
    {
     "name": "stdout",
     "output_type": "stream",
     "text": [
      "RMSE of Liner Regression: 1.3683359367578005\n",
      "RMSE of XGB: 0.396467953394632\n",
      "RMSE of Lasso Regression: 2.732853595795069\n",
      "RMSE of Riged Regression: 1.1015477968778138\n",
      "RMSE of Elastic Regression: 2.091601060380883\n"
     ]
    }
   ],
   "source": [
    "import optuna\n",
    "\n",
    "\n",
    "target_cols = ['Alcoholic beverages and tobacco', 'Clothing and footwear',\n",
    "       'Communication', 'Education', 'Food and non-alcoholic beverages',\n",
    "       'Headline_CPI', 'Health', 'Household contents and services',\n",
    "       'Housing and utilities', 'Miscellaneous goods and services',\n",
    "       'Recreation and culture', 'Restaurants and hotels ', 'Transport']\n",
    "\n",
    "#if you add additional data sources that have no value in the predicting month , drop it, now that you have their lags\n",
    "features= [col for col in train.columns if col not in target_cols + ['Month']]\n",
    "\n",
    "\n",
    "X_train = training_set[features]\n",
    "y_train = training_set[target_cols]\n",
    "\n",
    "X_val = validation_set[features]\n",
    "y_val = validation_set[target_cols]\n",
    "\n",
    "x_models = {}\n",
    "lr_models = {}\n",
    "l_models = {}\n",
    "r_models = {}\n",
    "el_models = {}\n",
    "bp = {}\n",
    "\n",
    "y_pred = []\n",
    "y_predx = []\n",
    "y_predl = []\n",
    "y_predr = []\n",
    "y_predel = []\n",
    "\n",
    "scaler = MinMaxScaler()\n",
    "\n",
    "def objective(trial):\n",
    "    alpha = trial.suggest_loguniform('alpha', 1e-5, 100)  # Ridge regularization strength\n",
    "    fit_intercept = trial.suggest_categorical('fit_intercept', [True, False])\n",
    "    copy_X = trial.suggest_categorical('copy_X', [True, False])\n",
    "    max_iter = trial.suggest_int('max_iter', 100, 1000)\n",
    "    tol = trial.suggest_loguniform('tol', 1e-6, 1e-3)\n",
    "    solver = trial.suggest_categorical('solver', ['auto', 'svd', 'cholesky', 'lsqr', 'sparse_cg', 'sag', 'saga'])\n",
    "\n",
    "    r_model = Ridge(alpha=alpha, fit_intercept=fit_intercept, copy_X=copy_X, max_iter=max_iter, tol=tol, solver=solver,)\n",
    "    r_model.fit(X_train, y_train[target_col])\n",
    "    y_pred_colr = r_model.predict(X_val)\n",
    "    return mean_squared_error(y_val[target_col], y_pred_colr)\n",
    "\n",
    "#training\n",
    "for target_col in target_cols:\n",
    "    #study = optuna.create_study(direction='minimize')\n",
    "    #study.optimize(objective, n_trials=50)\n",
    "    #best_params = study.best_params\n",
    "    \n",
    "    lr_model = LinearRegression()\n",
    "    x_model = XGBRegressor(seed=seed)\n",
    "    r_model = Ridge(random_state=seed)\n",
    "    l_model = Lasso(alpha=0.1, random_state=seed)\n",
    "    el_model = ElasticNet(alpha=0.1, l1_ratio=0.5, warm_start=True, random_state= seed)\n",
    "    \n",
    "    X_train_scaled = scaler.fit_transform(X_train)\n",
    "    \n",
    "    lr_model.fit(X_train_scaled, y_train[target_col])\n",
    "    x_model.fit(X_train_scaled, y_train[target_col])\n",
    "    r_model.fit(X_train, y_train[target_col])\n",
    "    l_model.fit(X_train_scaled, y_train[target_col])\n",
    "    el_model.fit(X_train_scaled, y_train[target_col])\n",
    "    \n",
    "    lr_models[target_col] = lr_model\n",
    "    l_models[target_col] = l_model\n",
    "    r_models[target_col] = r_model\n",
    "    el_models[target_col] = el_model\n",
    "    x_models[target_col] = x_model\n",
    "    #bp[target_col] = best_params\n",
    "#validation\n",
    "for target_col in target_cols:\n",
    "    lr_model = lr_models[target_col]\n",
    "    x_model = x_models[target_col]\n",
    "    l_model = l_models[target_col]\n",
    "    r_model = r_models[target_col]\n",
    "    el_model = el_models[target_col]\n",
    "    \n",
    "    X_val_scaled = scaler.transform(X_val)\n",
    "    \n",
    "    y_pred_col = lr_model.predict(X_val_scaled)\n",
    "    y_pred_colx = x_model.predict(X_val_scaled)\n",
    "    y_pred_coll = l_model.predict(X_val_scaled)\n",
    "    y_pred_colr = r_model.predict(X_val)\n",
    "    y_pred_colel = el_model.predict(X_val_scaled)\n",
    "    \n",
    "    y_pred.append(y_pred_col)\n",
    "    y_predx.append(y_pred_colx)\n",
    "    y_predl.append(y_pred_coll)\n",
    "    y_predr.append(y_pred_colr)\n",
    "    y_predel.append(y_pred_colel)\n",
    "\n",
    "#scoring\n",
    "\n",
    "y_pred = np.array(y_pred).T\n",
    "y_predx = np.array(y_predx).T\n",
    "y_predl = np.array(y_predl).T\n",
    "y_predr = np.array(y_predr).T\n",
    "y_predel = np.array(y_predel).T\n",
    "\n",
    "df = pd.DataFrame({'y_pred': y_pred.flatten(), 'y_val': y_val.values.flatten()})\n",
    "dfx = pd.DataFrame({'y_pred': y_predx.flatten(), 'y_val': y_val.values.flatten()})\n",
    "dfl = pd.DataFrame({'y_pred': y_predl.flatten(), 'y_val': y_val.values.flatten()})\n",
    "dfr = pd.DataFrame({'y_pred': y_predr.flatten(), 'y_val': y_val.values.flatten()})\n",
    "dfel = pd.DataFrame({'y_pred': y_predel.flatten(), 'y_val': y_val.values.flatten()})\n",
    "\n",
    "#calculate the rmse\n",
    "rmse = np.sqrt(mean_squared_error(df['y_pred'], df['y_val']))\n",
    "rmsex = np.sqrt(mean_squared_error(dfx['y_pred'], df['y_val']))\n",
    "rmsel = np.sqrt(mean_squared_error(dfl['y_pred'], df['y_val']))\n",
    "rmser = np.sqrt(mean_squared_error(dfr['y_pred'], df['y_val']))\n",
    "rmseel = np.sqrt(mean_squared_error(dfel['y_pred'], df['y_val']))\n",
    "\n",
    "print(f'RMSE of Liner Regression: {rmse}') \n",
    "print(f'RMSE of XGB: {rmsex}') \n",
    "print(f'RMSE of Lasso Regression: {rmsel}') \n",
    "print(f'RMSE of Riged Regression: {rmser}') \n",
    "print(f'RMSE of Elastic Regression: {rmseel}') "
   ]
  },
  {
   "cell_type": "code",
   "execution_count": 146,
   "metadata": {},
   "outputs": [],
   "source": [
    "#best_params"
   ]
  },
  {
   "cell_type": "code",
   "execution_count": 147,
   "metadata": {},
   "outputs": [
    {
     "name": "stdout",
     "output_type": "stream",
     "text": [
      "pridiction of Liner Regression: [[110.82532684 104.69229224  98.32687358 109.52677156 119.52832971\n",
      "  111.04463952 111.03980081 106.92752362 107.41048622 110.68652394\n",
      "  106.1430026  110.35507674 115.01430442]]\n",
      "prediction of XGB: [[110.89876  104.29863   99.60103  110.39956  118.29879  109.79865\n",
      "  110.79883  107.68839  105.398834 109.485954 105.29847  110.39875\n",
      "  112.424164]]\n",
      "pridiction of Riged Regression: [[110.43185883 104.7121366   98.60764598 109.36962369 118.3941571\n",
      "  110.98307363 111.59116958 107.00552457 107.08670826 110.78975297\n",
      "  106.0759272  111.03819868 116.46913728]]\n",
      "prediction of Lasso Regression: [[110.67396924 104.12963235  99.68823529 110.82182279 118.23504053\n",
      "  111.32732749 110.16780038 108.55788595 107.26327597 109.99559602\n",
      "  105.77131931 109.74638073 116.62558234]]\n",
      "pridiction of Elastic Net Regression: [[111.11808744 104.41682451  99.68823529 109.81979779 120.47484452\n",
      "  111.5252384  109.62701959 108.78797567 106.54539057 109.74742597\n",
      "  105.72663505 110.56060273 118.27156053]]\n"
     ]
    }
   ],
   "source": [
    "X_train = train[features]\n",
    "y_train = train[target_cols]\n",
    "\n",
    "X_val = test[features]\n",
    "y_val = test[target_cols]\n",
    "\n",
    "x_models = {}\n",
    "lr_models = {}\n",
    "l_models = {}\n",
    "r_models = {}\n",
    "el_models = {}\n",
    "\n",
    "y_pred = []\n",
    "y_predx = []\n",
    "y_predl = []\n",
    "y_predr = []\n",
    "y_predel = []\n",
    "\n",
    "scaler = MinMaxScaler()\n",
    "\n",
    "#training\n",
    "for target_col in target_cols:\n",
    "    lr_model = LinearRegression()\n",
    "    x_model = XGBRegressor(seed=seed)\n",
    "    r_model = Ridge(random_state=seed)\n",
    "    l_model = Lasso(alpha=0.1, random_state=seed)\n",
    "    el_model = ElasticNet(alpha=0.1, l1_ratio=0.5, warm_start=True, random_state= seed)\n",
    "    \n",
    "    X_train_scaled = scaler.fit_transform(X_train)\n",
    "    \n",
    "    lr_model.fit(X_train_scaled, y_train[target_col])\n",
    "    x_model.fit(X_train_scaled, y_train[target_col])\n",
    "    r_model.fit(X_train, y_train[target_col])\n",
    "    l_model.fit(X_train_scaled, y_train[target_col])\n",
    "    el_model.fit(X_train_scaled, y_train[target_col])\n",
    "    \n",
    "    lr_models[target_col] = lr_model\n",
    "    l_models[target_col] = l_model\n",
    "    r_models[target_col] = r_model\n",
    "    el_models[target_col] = el_model\n",
    "    x_models[target_col] = x_model\n",
    "    \n",
    "#pridiction\n",
    "for target_col in target_cols:\n",
    "    lr_model = lr_models[target_col]\n",
    "    x_model = x_models[target_col]\n",
    "    l_model = l_models[target_col]\n",
    "    r_model = r_models[target_col]\n",
    "    el_model = el_models[target_col]\n",
    "    \n",
    "    X_val_scaled = scaler.transform(X_val)\n",
    "    \n",
    "    y_pred_col = lr_model.predict(X_val_scaled)\n",
    "    y_pred_colx = x_model.predict(X_val_scaled)\n",
    "    y_pred_coll = l_model.predict(X_val_scaled)\n",
    "    y_pred_colr = r_model.predict(X_val)\n",
    "    y_pred_colel = el_model.predict(X_val_scaled)\n",
    "    \n",
    "    y_pred.append(y_pred_col)\n",
    "    y_predx.append(y_pred_colx)\n",
    "    y_predl.append(y_pred_coll)\n",
    "    y_predr.append(y_pred_colr)\n",
    "    y_predel.append(y_pred_colel)\n",
    "    \n",
    "y_pred = np.array(y_pred).T\n",
    "y_predx = np.array(y_predx).T\n",
    "y_predl = np.array(y_predl).T\n",
    "y_predr = np.array(y_predr).T\n",
    "y_predel = np.array(y_predel).T\n",
    "\n",
    "print(f'pridiction of Liner Regression: {y_pred}') \n",
    "print(f'prediction of XGB: {y_predx}') \n",
    "print(f'pridiction of Riged Regression: {y_predr}') \n",
    "print(f'prediction of Lasso Regression: {y_predl}') \n",
    "print(f'pridiction of Elastic Net Regression: {y_predel}') "
   ]
  },
  {
   "attachments": {},
   "cell_type": "markdown",
   "metadata": {},
   "source": [
    "SUBMITION\n"
   ]
  },
  {
   "cell_type": "code",
   "execution_count": 148,
   "metadata": {},
   "outputs": [],
   "source": [
    "def prepSub(y_pred:list, target_cols: list):\n",
    "    sub_df = pd.DataFrame(y_pred, columns=target_cols)\n",
    "    sub_df['Month'] = date_obj\n",
    "    return sub_df"
   ]
  },
  {
   "cell_type": "code",
   "execution_count": 149,
   "metadata": {},
   "outputs": [],
   "source": [
    "l = y_predl.tolist()\n",
    "l[0].insert(0, date_obj)\n",
    "sub = prepSub(l, ['Month']+target_cols) "
   ]
  },
  {
   "cell_type": "code",
   "execution_count": 150,
   "metadata": {},
   "outputs": [],
   "source": [
    "cpi_pivot = cpi.pivot(index = 'Month', columns = 'Category', values = 'Value').reset_index()#changing from a long format to a wide format,\n",
    "cpi_pivot['Month'] = pd.to_datetime(cpi_pivot['Month'])\n",
    "cpi_pivot = cpi_pivot.sort_values(\"Month\").reset_index(drop=True)\n",
    "date_str = '2023-06-30'\n",
    "date_obj = pd.to_datetime(date_str)\n",
    "new_row = pd.DataFrame({'Month': [date_obj]})\n",
    "cpi_pivot = pd.concat([cpi_pivot, new_row]).reset_index(drop=True)\n",
    "cpi_of_june = [110.9, 104.3, 99.6, 110.4, 118.3, 109.8, 110.8, 107.7, 105.4, 109.6, 105.3, 110.0, 112.3]\n",
    "\n",
    "for i, col in enumerate(cpi_pivot.columns[1:]):\n",
    "    cpi_pivot.at[17, col] = cpi_of_june[i]\n",
    "\n",
    "cpi_pivot = pd.concat([cpi_pivot, sub]).reset_index(drop=True)\n",
    "date_str = '2023-08-31'\n",
    "date_obj = pd.to_datetime(date_str)\n",
    "new_row = pd.DataFrame({'Month': [date_obj]})\n",
    "cpi_pivot = pd.concat([cpi_pivot, new_row]).reset_index(drop=True)"
   ]
  },
  {
   "cell_type": "code",
   "execution_count": 151,
   "metadata": {},
   "outputs": [],
   "source": [
    "feats_to_lag = cpi_pivot.columns[1:].to_list()\n",
    "for col in feats_to_lag:\n",
    "    for i in range(1,6):\n",
    "        cpi_pivot[f'prev_{i}_month_{col}'] = cpi_pivot[col].shift(i)"
   ]
  },
  {
   "cell_type": "code",
   "execution_count": 152,
   "metadata": {},
   "outputs": [],
   "source": [
    "cpi_pivot = cpi_pivot.drop(0)\n",
    "cpi_pivot = cpi_pivot.bfill()"
   ]
  },
  {
   "cell_type": "code",
   "execution_count": 153,
   "metadata": {},
   "outputs": [
    {
     "data": {
      "text/plain": [
       "((18, 105), (1, 105), (17, 105), (1, 105))"
      ]
     },
     "execution_count": 153,
     "metadata": {},
     "output_type": "execute_result"
    }
   ],
   "source": [
    "train = cpi_pivot[cpi_pivot['Month'] != \"2023-08-31\"]\n",
    "test = cpi_pivot[cpi_pivot['Month'] == \"2023-08-31\"]\n",
    "\n",
    "training_set = train[train['Month']!= '2023-06-30']\n",
    "validation_set = train[train['Month']== '2023-06-30']\n",
    "\n",
    "train.shape, test.shape, training_set.shape, validation_set.shape"
   ]
  },
  {
   "cell_type": "code",
   "execution_count": 154,
   "metadata": {},
   "outputs": [
    {
     "name": "stdout",
     "output_type": "stream",
     "text": [
      "RMSE of Liner Regression: 1.1060831490148735\n",
      "RMSE of XGB: 0.9811874514292074\n",
      "RMSE of Lasso Regression: 1.459569323391948\n",
      "RMSE of Riged Regression: 0.7713745422817264\n",
      "RMSE of Elastic Regression: 1.0878555934917027\n"
     ]
    }
   ],
   "source": [
    "import optuna\n",
    "\n",
    "\n",
    "target_cols = ['Alcoholic beverages and tobacco', 'Clothing and footwear',\n",
    "       'Communication', 'Education', 'Food and non-alcoholic beverages',\n",
    "       'Headline_CPI', 'Health', 'Household contents and services',\n",
    "       'Housing and utilities', 'Miscellaneous goods and services',\n",
    "       'Recreation and culture', 'Restaurants and hotels ', 'Transport']\n",
    "\n",
    "#if you add additional data sources that have no value in the predicting month , drop it, now that you have their lags\n",
    "features= [col for col in train.columns if col not in target_cols + ['Month']]\n",
    "\n",
    "\n",
    "X_train = training_set[features]\n",
    "y_train = training_set[target_cols]\n",
    "\n",
    "X_val = validation_set[features]\n",
    "y_val = validation_set[target_cols]\n",
    "\n",
    "x_models = {}\n",
    "lr_models = {}\n",
    "l_models = {}\n",
    "r_models = {}\n",
    "el_models = {}\n",
    "bp = {}\n",
    "\n",
    "y_pred = []\n",
    "y_predx = []\n",
    "y_predl = []\n",
    "y_predr = []\n",
    "y_predel = []\n",
    "\n",
    "scaler = MinMaxScaler()\n",
    "\n",
    "def objective(trial):\n",
    "    alpha = trial.suggest_loguniform('alpha', 1e-5, 100)  # Ridge regularization strength\n",
    "    fit_intercept = trial.suggest_categorical('fit_intercept', [True, False])\n",
    "    copy_X = trial.suggest_categorical('copy_X', [True, False])\n",
    "    max_iter = trial.suggest_int('max_iter', 100, 1000)\n",
    "    tol = trial.suggest_loguniform('tol', 1e-6, 1e-3)\n",
    "    solver = trial.suggest_categorical('solver', ['auto', 'svd', 'cholesky', 'lsqr', 'sparse_cg', 'sag', 'saga'])\n",
    "\n",
    "    r_model = Ridge(alpha=alpha, fit_intercept=fit_intercept, copy_X=copy_X, max_iter=max_iter, tol=tol, solver=solver,)\n",
    "    r_model.fit(X_train, y_train[target_col])\n",
    "    y_pred_colr = r_model.predict(X_val)\n",
    "    return mean_squared_error(y_val[target_col], y_pred_colr)\n",
    "\n",
    "#training\n",
    "for target_col in target_cols:\n",
    "    #study = optuna.create_study(direction='minimize')\n",
    "    #study.optimize(objective, n_trials=50)\n",
    "    #best_params = study.best_params\n",
    "    \n",
    "    lr_model = LinearRegression()\n",
    "    x_model = XGBRegressor(seed=seed)\n",
    "    r_model = Ridge(random_state=seed)\n",
    "    l_model = Lasso(alpha=0.1, random_state=seed)\n",
    "    el_model = ElasticNet(alpha=0.1, l1_ratio=0.5, warm_start=True, random_state= seed)\n",
    "    \n",
    "    X_train_scaled = scaler.fit_transform(X_train)\n",
    "    \n",
    "    lr_model.fit(X_train_scaled, y_train[target_col])\n",
    "    x_model.fit(X_train_scaled, y_train[target_col])\n",
    "    r_model.fit(X_train, y_train[target_col])\n",
    "    l_model.fit(X_train_scaled, y_train[target_col])\n",
    "    el_model.fit(X_train_scaled, y_train[target_col])\n",
    "    \n",
    "    lr_models[target_col] = lr_model\n",
    "    l_models[target_col] = l_model\n",
    "    r_models[target_col] = r_model\n",
    "    el_models[target_col] = el_model\n",
    "    x_models[target_col] = x_model\n",
    "    #bp[target_col] = best_params\n",
    "#validation\n",
    "for target_col in target_cols:\n",
    "    lr_model = lr_models[target_col]\n",
    "    x_model = x_models[target_col]\n",
    "    l_model = l_models[target_col]\n",
    "    r_model = r_models[target_col]\n",
    "    el_model = el_models[target_col]\n",
    "    \n",
    "    X_val_scaled = scaler.transform(X_val)\n",
    "    \n",
    "    y_pred_col = lr_model.predict(X_val_scaled)\n",
    "    y_pred_colx = x_model.predict(X_val_scaled)\n",
    "    y_pred_coll = l_model.predict(X_val_scaled)\n",
    "    y_pred_colr = r_model.predict(X_val)\n",
    "    y_pred_colel = el_model.predict(X_val_scaled)\n",
    "    \n",
    "    y_pred.append(y_pred_col)\n",
    "    y_predx.append(y_pred_colx)\n",
    "    y_predl.append(y_pred_coll)\n",
    "    y_predr.append(y_pred_colr)\n",
    "    y_predel.append(y_pred_colel)\n",
    "\n",
    "#scoring\n",
    "\n",
    "y_pred = np.array(y_pred).T\n",
    "y_predx = np.array(y_predx).T\n",
    "y_predl = np.array(y_predl).T\n",
    "y_predr = np.array(y_predr).T\n",
    "y_predel = np.array(y_predel).T\n",
    "\n",
    "df = pd.DataFrame({'y_pred': y_pred.flatten(), 'y_val': y_val.values.flatten()})\n",
    "dfx = pd.DataFrame({'y_pred': y_predx.flatten(), 'y_val': y_val.values.flatten()})\n",
    "dfl = pd.DataFrame({'y_pred': y_predl.flatten(), 'y_val': y_val.values.flatten()})\n",
    "dfr = pd.DataFrame({'y_pred': y_predr.flatten(), 'y_val': y_val.values.flatten()})\n",
    "dfel = pd.DataFrame({'y_pred': y_predel.flatten(), 'y_val': y_val.values.flatten()})\n",
    "\n",
    "#calculate the rmse\n",
    "rmse = np.sqrt(mean_squared_error(df['y_pred'], df['y_val']))\n",
    "rmsex = np.sqrt(mean_squared_error(dfx['y_pred'], df['y_val']))\n",
    "rmsel = np.sqrt(mean_squared_error(dfl['y_pred'], df['y_val']))\n",
    "rmser = np.sqrt(mean_squared_error(dfr['y_pred'], df['y_val']))\n",
    "rmseel = np.sqrt(mean_squared_error(dfel['y_pred'], df['y_val']))\n",
    "\n",
    "print(f'RMSE of Liner Regression: {rmse}') \n",
    "print(f'RMSE of XGB: {rmsex}') \n",
    "print(f'RMSE of Lasso Regression: {rmsel}') \n",
    "print(f'RMSE of Riged Regression: {rmser}') \n",
    "print(f'RMSE of Elastic Regression: {rmseel}') "
   ]
  },
  {
   "cell_type": "code",
   "execution_count": 155,
   "metadata": {},
   "outputs": [
    {
     "name": "stdout",
     "output_type": "stream",
     "text": [
      "pridiction of Liner Regression: [[109.68086626 104.63300375 100.34640145 109.43057078 119.10994539\n",
      "  111.42666845 110.93975953 109.35427711 107.04001575 110.2432487\n",
      "  105.79826581 110.58114063 116.19449073]]\n",
      "prediction of XGB: [[110.898705 104.267624  99.60883  110.39981  118.300095 109.70104\n",
      "  110.66538  107.721375 105.39892  109.59975  105.291    109.66177\n",
      "  113.56251 ]]\n",
      "pridiction of Riged Regression: [[110.24604351 104.29520768 100.03375975 111.20390674 118.36890993\n",
      "  110.83293393 109.72534257 108.51064098 107.13756078 109.34301569\n",
      "  106.06153702 108.97545486 114.64190388]]\n",
      "prediction of Lasso Regression: [[110.88854954 104.63289981  99.68823529 110.24042897 120.80892737\n",
      "  110.77803646 110.05331894 108.70811138 107.02325571 109.783881\n",
      "  105.06331432 109.6165788  117.85279225]]\n",
      "pridiction of Elastic Net Regression: [[111.18971719 104.64136715  99.67209245 110.46934159 120.58062941\n",
      "  111.46681003 110.46445007 108.90798335 106.97460717 110.13374722\n",
      "  105.79788399 110.36149318 117.57027774]]\n"
     ]
    }
   ],
   "source": [
    "X_train = train[features]\n",
    "y_train = train[target_cols]\n",
    "\n",
    "X_val = test[features]\n",
    "y_val = test[target_cols]\n",
    "\n",
    "x_models = {}\n",
    "lr_models = {}\n",
    "l_models = {}\n",
    "r_models = {}\n",
    "el_models = {}\n",
    "\n",
    "y_pred = []\n",
    "y_predx = []\n",
    "y_predl = []\n",
    "y_predr = []\n",
    "y_predel = []\n",
    "\n",
    "scaler = MinMaxScaler()\n",
    "\n",
    "#training\n",
    "for target_col in target_cols:\n",
    "    lr_model = LinearRegression()\n",
    "    x_model = XGBRegressor(seed=seed)\n",
    "    r_model = Ridge(random_state=seed)\n",
    "    l_model = Lasso(alpha=0.1, random_state=seed)\n",
    "    el_model = ElasticNet(alpha=0.1, l1_ratio=0.5, warm_start=True, random_state= seed)\n",
    "    \n",
    "    X_train_scaled = scaler.fit_transform(X_train)\n",
    "    \n",
    "    lr_model.fit(X_train_scaled, y_train[target_col])\n",
    "    x_model.fit(X_train_scaled, y_train[target_col])\n",
    "    r_model.fit(X_train, y_train[target_col])\n",
    "    l_model.fit(X_train_scaled, y_train[target_col])\n",
    "    el_model.fit(X_train_scaled, y_train[target_col])\n",
    "    \n",
    "    lr_models[target_col] = lr_model\n",
    "    l_models[target_col] = l_model\n",
    "    r_models[target_col] = r_model\n",
    "    el_models[target_col] = el_model\n",
    "    x_models[target_col] = x_model\n",
    "    \n",
    "#pridiction\n",
    "for target_col in target_cols:\n",
    "    lr_model = lr_models[target_col]\n",
    "    x_model = x_models[target_col]\n",
    "    l_model = l_models[target_col]\n",
    "    r_model = r_models[target_col]\n",
    "    el_model = el_models[target_col]\n",
    "    \n",
    "    X_val_scaled = scaler.transform(X_val)\n",
    "    \n",
    "    y_pred_col = lr_model.predict(X_val_scaled)\n",
    "    y_pred_colx = x_model.predict(X_val_scaled)\n",
    "    y_pred_coll = l_model.predict(X_val_scaled)\n",
    "    y_pred_colr = r_model.predict(X_val)\n",
    "    y_pred_colel = el_model.predict(X_val_scaled)\n",
    "    \n",
    "    y_pred.append(y_pred_col)\n",
    "    y_predx.append(y_pred_colx)\n",
    "    y_predl.append(y_pred_coll)\n",
    "    y_predr.append(y_pred_colr)\n",
    "    y_predel.append(y_pred_colel)\n",
    "    \n",
    "y_pred = np.array(y_pred).T\n",
    "y_predx = np.array(y_predx).T\n",
    "y_predl = np.array(y_predl).T\n",
    "y_predr = np.array(y_predr).T\n",
    "y_predel = np.array(y_predel).T\n",
    "\n",
    "print(f'pridiction of Liner Regression: {y_pred}') \n",
    "print(f'prediction of XGB: {y_predx}') \n",
    "print(f'pridiction of Riged Regression: {y_predr}') \n",
    "print(f'prediction of Lasso Regression: {y_predl}') \n",
    "print(f'pridiction of Elastic Net Regression: {y_predel}') "
   ]
  },
  {
   "cell_type": "code",
   "execution_count": 156,
   "metadata": {},
   "outputs": [],
   "source": [
    "def prepSub(y_pred:list, target_cols: list, test, prefix:str):\n",
    "    sub_df = pd.DataFrame(y_pred, columns=target_cols)\n",
    "    sub_df['Month'] = test['Month']\n",
    "    \n",
    "    sub_df.set_index('Month', inplace=True)\n",
    "    sub_df.columns = [prefix+'_' + col.lower().replace('_', ' ').strip() for col in sub_df.columns]\n",
    "    sub_df.rename(columns= {f\"{prefix}_headline cpi\": f\"{prefix}_headline CPI\"}, inplace=True)\n",
    "    \n",
    "    sub_df = pd.melt(sub_df.reset_index(), id_vars= ['Month'], var_name= 'ID', value_name= 'Value')\n",
    "    \n",
    "    return sub_df[['ID', 'Value']]"
   ]
  },
  {
   "cell_type": "code",
   "execution_count": 157,
   "metadata": {},
   "outputs": [],
   "source": [
    "sub = prepSub(y_predl, target_cols, test, 'August') \n",
    "sub.to_csv('out/lasso_with_lag6_historic_base.csv', index=False)"
   ]
  }
 ],
 "metadata": {
  "kernelspec": {
   "display_name": "base",
   "language": "python",
   "name": "python3"
  },
  "language_info": {
   "codemirror_mode": {
    "name": "ipython",
    "version": 3
   },
   "file_extension": ".py",
   "mimetype": "text/x-python",
   "name": "python",
   "nbconvert_exporter": "python",
   "pygments_lexer": "ipython3",
   "version": "3.10.9"
  },
  "orig_nbformat": 4
 },
 "nbformat": 4,
 "nbformat_minor": 2
}
