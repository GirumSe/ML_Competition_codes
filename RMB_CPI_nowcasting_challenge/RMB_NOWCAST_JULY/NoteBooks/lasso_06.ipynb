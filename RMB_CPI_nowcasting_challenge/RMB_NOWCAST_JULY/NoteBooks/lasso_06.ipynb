{
 "cells": [
  {
   "attachments": {},
   "cell_type": "markdown",
   "metadata": {},
   "source": [
    "IMPORT\n"
   ]
  },
  {
   "cell_type": "code",
   "execution_count": 1,
   "metadata": {},
   "outputs": [],
   "source": [
    "import pandas as pd\n",
    "import numpy as np\n",
    "import seaborn as sns\n",
    "import matplotlib.pyplot as plt\n",
    "\n",
    "import math\n",
    "\n",
    "\n",
    "from sklearn.linear_model import LinearRegression, Ridge, Lasso, ElasticNet\n",
    "from sklearn.preprocessing import PolynomialFeatures\n",
    "from statsmodels.api import OLS\n",
    "import statsmodels.api as sm\n",
    "from sklearn.metrics import mean_squared_error\n",
    "from sklearn.preprocessing import StandardScaler, MinMaxScaler\n",
    "\n",
    "from xgboost import XGBRegressor\n",
    "\n",
    "import warnings\n",
    "warnings.filterwarnings('ignore')\n",
    "\n",
    "pd.options.display.max_columns = 2000\n",
    "pd.options.display.max_rows = 2000\n",
    "\n",
    "\n",
    "#path = '/Koding_With_Kolesh/challenges/RMB_NOWCAST_APRIL/'\n",
    "cpi = pd.read_csv('CPI_Historic_Values_Zindi_May_23.csv')\n",
    "vehicles = pd.read_csv('Naamsa_Vehicle_Sales.csv')\n",
    "seed = 3"
   ]
  },
  {
   "attachments": {},
   "cell_type": "markdown",
   "metadata": {},
   "source": [
    "PIVOTING THE DATA\n"
   ]
  },
  {
   "cell_type": "code",
   "execution_count": 2,
   "metadata": {},
   "outputs": [],
   "source": [
    "cpi_pivot = cpi.pivot(index = 'Month', columns = 'Category', values = 'Value').reset_index()#changing from a long format to a wide format,\n",
    "cpi_pivot['Month'] = pd.to_datetime(cpi_pivot['Month'])\n",
    "cpi_pivot = cpi_pivot.sort_values(\"Month\").reset_index(drop=True)"
   ]
  },
  {
   "attachments": {},
   "cell_type": "markdown",
   "metadata": {},
   "source": [
    "ADDING JUNE'S DATA MANUALLY FROM https://www.statssa.gov.za/publications/P0141/P0141June2023.pdf\n"
   ]
  },
  {
   "cell_type": "code",
   "execution_count": 3,
   "metadata": {},
   "outputs": [],
   "source": [
    "date_str = '2023-06-30'\n",
    "date_obj = pd.to_datetime(date_str)\n",
    "new_row = pd.DataFrame({'Month': [date_obj]})\n",
    "cpi_pivot = pd.concat([cpi_pivot, new_row]).reset_index(drop=True)\n",
    "cpi_of_june = [110.9, 104.3, 99.6, 110.4, 118.3, 109.8, 110.8, 107.7, 105.4, 109.6, 105.3, 110.0, 112.3]\n",
    "\n",
    "for i, col in enumerate(cpi_pivot.columns[1:]):\n",
    "    cpi_pivot.at[17, col] = cpi_of_june[i]"
   ]
  },
  {
   "attachments": {},
   "cell_type": "markdown",
   "metadata": {},
   "source": [
    "ADD THE july ROW\n"
   ]
  },
  {
   "cell_type": "code",
   "execution_count": 4,
   "metadata": {},
   "outputs": [],
   "source": [
    "date_str = '2023-07-31'\n",
    "date_obj = pd.to_datetime(date_str)\n",
    "new_row = pd.DataFrame({'Month': [date_obj]})\n",
    "cpi_pivot = pd.concat([cpi_pivot, new_row]).reset_index(drop=True)"
   ]
  },
  {
   "attachments": {},
   "cell_type": "markdown",
   "metadata": {},
   "source": [
    "FEATURE ENGINNERING\n"
   ]
  },
  {
   "cell_type": "code",
   "execution_count": 5,
   "metadata": {},
   "outputs": [],
   "source": [
    "feats_to_lag = cpi_pivot.columns[1:].to_list()\n",
    "for col in feats_to_lag:\n",
    "    for i in range(1,5):\n",
    "        cpi_pivot[f'prev_{i}_month_{col}'] = cpi_pivot[col].shift(i)"
   ]
  },
  {
   "attachments": {},
   "cell_type": "markdown",
   "metadata": {},
   "source": [
    "HANDLE MISSING DATA\n"
   ]
  },
  {
   "cell_type": "code",
   "execution_count": 6,
   "metadata": {},
   "outputs": [],
   "source": [
    "cpi_pivot = cpi_pivot.drop(0)\n",
    "cpi_pivot = cpi_pivot.bfill()"
   ]
  },
  {
   "attachments": {},
   "cell_type": "markdown",
   "metadata": {},
   "source": [
    "TRAIN AND VALIDATION\n"
   ]
  },
  {
   "cell_type": "code",
   "execution_count": 7,
   "metadata": {},
   "outputs": [
    {
     "data": {
      "text/plain": [
       "((17, 66), (1, 66), (16, 66), (1, 66))"
      ]
     },
     "execution_count": 7,
     "metadata": {},
     "output_type": "execute_result"
    }
   ],
   "source": [
    "train = cpi_pivot[cpi_pivot['Month'] != \"2023-07-31\"]\n",
    "test = cpi_pivot[cpi_pivot['Month'] == \"2023-07-31\"]\n",
    "\n",
    "training_set = train[train['Month']!= '2023-06-30']\n",
    "validation_set = train[train['Month']== '2023-06-30']\n",
    "\n",
    "train.shape, test.shape, training_set.shape, validation_set.shape"
   ]
  },
  {
   "attachments": {},
   "cell_type": "markdown",
   "metadata": {},
   "source": [
    "MODELING\n"
   ]
  },
  {
   "cell_type": "code",
   "execution_count": 8,
   "metadata": {},
   "outputs": [
    {
     "name": "stdout",
     "output_type": "stream",
     "text": [
      "RMSE of Liner Regression: 1.7572439547650487\n",
      "RMSE of XGB: 0.3753174210565328\n",
      "RMSE of Lasso Regression: 2.6914993100987297\n",
      "RMSE of Riged Regression: 1.3087101667078362\n",
      "RMSE of Elastic Regression: 2.1228057129238063\n"
     ]
    }
   ],
   "source": [
    "import optuna\n",
    "\n",
    "\n",
    "target_cols = ['Alcoholic beverages and tobacco', 'Clothing and footwear',\n",
    "       'Communication', 'Education', 'Food and non-alcoholic beverages',\n",
    "       'Headline_CPI', 'Health', 'Household contents and services',\n",
    "       'Housing and utilities', 'Miscellaneous goods and services',\n",
    "       'Recreation and culture', 'Restaurants and hotels ', 'Transport']\n",
    "\n",
    "#if you add additional data sources that have no value in the predicting month , drop it, now that you have their lags\n",
    "features= [col for col in train.columns if col not in target_cols + ['Month']]\n",
    "\n",
    "\n",
    "X_train = training_set[features]\n",
    "y_train = training_set[target_cols]\n",
    "\n",
    "X_val = validation_set[features]\n",
    "y_val = validation_set[target_cols]\n",
    "\n",
    "x_models = {}\n",
    "lr_models = {}\n",
    "l_models = {}\n",
    "r_models = {}\n",
    "el_models = {}\n",
    "bp = {}\n",
    "\n",
    "y_pred = []\n",
    "y_predx = []\n",
    "y_predl = []\n",
    "y_predr = []\n",
    "y_predel = []\n",
    "\n",
    "scaler = MinMaxScaler()\n",
    "\n",
    "def objective(trial):\n",
    "    alpha = trial.suggest_loguniform('alpha', 1e-5, 100)  # Ridge regularization strength\n",
    "    fit_intercept = trial.suggest_categorical('fit_intercept', [True, False])\n",
    "    copy_X = trial.suggest_categorical('copy_X', [True, False])\n",
    "    max_iter = trial.suggest_int('max_iter', 100, 1000)\n",
    "    tol = trial.suggest_loguniform('tol', 1e-6, 1e-3)\n",
    "    solver = trial.suggest_categorical('solver', ['auto', 'svd', 'cholesky', 'lsqr', 'sparse_cg', 'sag', 'saga'])\n",
    "\n",
    "    r_model = Ridge(alpha=alpha, fit_intercept=fit_intercept, copy_X=copy_X, max_iter=max_iter, tol=tol, solver=solver,)\n",
    "    r_model.fit(X_train, y_train[target_col])\n",
    "    y_pred_colr = r_model.predict(X_val)\n",
    "    return mean_squared_error(y_val[target_col], y_pred_colr)\n",
    "\n",
    "#training\n",
    "for target_col in target_cols:\n",
    "    #study = optuna.create_study(direction='minimize')\n",
    "    #study.optimize(objective, n_trials=50)\n",
    "    #best_params = study.best_params\n",
    "    \n",
    "    lr_model = LinearRegression()\n",
    "    x_model = XGBRegressor(seed=seed)\n",
    "    r_model = Ridge(random_state=seed)\n",
    "    l_model = Lasso(alpha=0.1, random_state=seed)\n",
    "    el_model = ElasticNet(alpha=0.1, l1_ratio=0.5, warm_start=True, random_state= seed)\n",
    "    \n",
    "    X_train_scaled = scaler.fit_transform(X_train)\n",
    "    \n",
    "    lr_model.fit(X_train_scaled, y_train[target_col])\n",
    "    x_model.fit(X_train_scaled, y_train[target_col])\n",
    "    r_model.fit(X_train, y_train[target_col])\n",
    "    l_model.fit(X_train_scaled, y_train[target_col])\n",
    "    el_model.fit(X_train_scaled, y_train[target_col])\n",
    "    \n",
    "    lr_models[target_col] = lr_model\n",
    "    l_models[target_col] = l_model\n",
    "    r_models[target_col] = r_model\n",
    "    el_models[target_col] = el_model\n",
    "    x_models[target_col] = x_model\n",
    "    #bp[target_col] = best_params\n",
    "#validation\n",
    "for target_col in target_cols:\n",
    "    lr_model = lr_models[target_col]\n",
    "    x_model = x_models[target_col]\n",
    "    l_model = l_models[target_col]\n",
    "    r_model = r_models[target_col]\n",
    "    el_model = el_models[target_col]\n",
    "    \n",
    "    X_val_scaled = scaler.transform(X_val)\n",
    "    \n",
    "    y_pred_col = lr_model.predict(X_val_scaled)\n",
    "    y_pred_colx = x_model.predict(X_val_scaled)\n",
    "    y_pred_coll = l_model.predict(X_val_scaled)\n",
    "    y_pred_colr = r_model.predict(X_val)\n",
    "    y_pred_colel = el_model.predict(X_val_scaled)\n",
    "    \n",
    "    y_pred.append(y_pred_col)\n",
    "    y_predx.append(y_pred_colx)\n",
    "    y_predl.append(y_pred_coll)\n",
    "    y_predr.append(y_pred_colr)\n",
    "    y_predel.append(y_pred_colel)\n",
    "\n",
    "#scoring\n",
    "\n",
    "y_pred = np.array(y_pred).T\n",
    "y_predx = np.array(y_predx).T\n",
    "y_predl = np.array(y_predl).T\n",
    "y_predr = np.array(y_predr).T\n",
    "y_predel = np.array(y_predel).T\n",
    "\n",
    "df = pd.DataFrame({'y_pred': y_pred.flatten(), 'y_val': y_val.values.flatten()})\n",
    "dfx = pd.DataFrame({'y_pred': y_predx.flatten(), 'y_val': y_val.values.flatten()})\n",
    "dfl = pd.DataFrame({'y_pred': y_predl.flatten(), 'y_val': y_val.values.flatten()})\n",
    "dfr = pd.DataFrame({'y_pred': y_predr.flatten(), 'y_val': y_val.values.flatten()})\n",
    "dfel = pd.DataFrame({'y_pred': y_predel.flatten(), 'y_val': y_val.values.flatten()})\n",
    "\n",
    "#calculate the rmse\n",
    "rmse = np.sqrt(mean_squared_error(df['y_pred'], df['y_val']))\n",
    "rmsex = np.sqrt(mean_squared_error(dfx['y_pred'], df['y_val']))\n",
    "rmsel = np.sqrt(mean_squared_error(dfl['y_pred'], df['y_val']))\n",
    "rmser = np.sqrt(mean_squared_error(dfr['y_pred'], df['y_val']))\n",
    "rmseel = np.sqrt(mean_squared_error(dfel['y_pred'], df['y_val']))\n",
    "\n",
    "print(f'RMSE of Liner Regression: {rmse}') \n",
    "print(f'RMSE of XGB: {rmsex}') \n",
    "print(f'RMSE of Lasso Regression: {rmsel}') \n",
    "print(f'RMSE of Riged Regression: {rmser}') \n",
    "print(f'RMSE of Elastic Regression: {rmseel}') "
   ]
  },
  {
   "cell_type": "code",
   "execution_count": 9,
   "metadata": {},
   "outputs": [],
   "source": [
    "#best_params"
   ]
  },
  {
   "cell_type": "code",
   "execution_count": 10,
   "metadata": {},
   "outputs": [
    {
     "name": "stdout",
     "output_type": "stream",
     "text": [
      "pridiction of Liner Regression: [[110.85578063 104.65265584  98.27550679 109.39268781 119.25251737\n",
      "  111.07716113 110.6279201  106.82637783 107.39454682 110.50461312\n",
      "  105.94195778 110.27982706 116.08566678]]\n",
      "prediction of XGB: [[110.89876  104.298836  99.59974  110.39956  118.298836 109.79871\n",
      "  110.79841  107.69692  105.39884  109.59883  105.29846  110.39889\n",
      "  112.36836 ]]\n",
      "pridiction of Riged Regression: [[110.54472541 104.62853963  98.48361955 109.25201043 118.2284139\n",
      "  110.93991398 111.17657561 106.94962851 107.08807799 110.64681167\n",
      "  105.94302677 110.93952737 116.60040046]]\n",
      "prediction of Lasso Regression: [[110.69311757 104.33761235  99.68823529 110.81443482 118.5182431\n",
      "  111.30946595 109.90689753 108.55164825 107.24021295 109.92388415\n",
      "  106.09237748 109.65065741 116.6258505 ]]\n",
      "pridiction of Elastic Net Regression: [[110.96647419 104.41882112  99.68823529 109.92048491 120.35697727\n",
      "  111.35475297 109.61775044 108.78420194 106.42705713 109.60570642\n",
      "  105.60597955 110.41638275 118.06618217]]\n"
     ]
    }
   ],
   "source": [
    "X_train = train[features]\n",
    "y_train = train[target_cols]\n",
    "\n",
    "X_val = test[features]\n",
    "y_val = test[target_cols]\n",
    "\n",
    "x_models = {}\n",
    "lr_models = {}\n",
    "l_models = {}\n",
    "r_models = {}\n",
    "el_models = {}\n",
    "\n",
    "y_pred = []\n",
    "y_predx = []\n",
    "y_predl = []\n",
    "y_predr = []\n",
    "y_predel = []\n",
    "\n",
    "scaler = MinMaxScaler()\n",
    "\n",
    "#training\n",
    "for target_col in target_cols:\n",
    "    lr_model = LinearRegression()\n",
    "    x_model = XGBRegressor(seed=seed)\n",
    "    r_model = Ridge(random_state=seed)\n",
    "    l_model = Lasso(alpha=0.1, random_state=seed)\n",
    "    el_model = ElasticNet(alpha=0.1, l1_ratio=0.5, warm_start=True, random_state= seed)\n",
    "    \n",
    "    X_train_scaled = scaler.fit_transform(X_train)\n",
    "    \n",
    "    lr_model.fit(X_train_scaled, y_train[target_col])\n",
    "    x_model.fit(X_train_scaled, y_train[target_col])\n",
    "    r_model.fit(X_train, y_train[target_col])\n",
    "    l_model.fit(X_train_scaled, y_train[target_col])\n",
    "    el_model.fit(X_train_scaled, y_train[target_col])\n",
    "    \n",
    "    lr_models[target_col] = lr_model\n",
    "    l_models[target_col] = l_model\n",
    "    r_models[target_col] = r_model\n",
    "    el_models[target_col] = el_model\n",
    "    x_models[target_col] = x_model\n",
    "    \n",
    "#pridiction\n",
    "for target_col in target_cols:\n",
    "    lr_model = lr_models[target_col]\n",
    "    x_model = x_models[target_col]\n",
    "    l_model = l_models[target_col]\n",
    "    r_model = r_models[target_col]\n",
    "    el_model = el_models[target_col]\n",
    "    \n",
    "    X_val_scaled = scaler.transform(X_val)\n",
    "    \n",
    "    y_pred_col = lr_model.predict(X_val_scaled)\n",
    "    y_pred_colx = x_model.predict(X_val_scaled)\n",
    "    y_pred_coll = l_model.predict(X_val_scaled)\n",
    "    y_pred_colr = r_model.predict(X_val)\n",
    "    y_pred_colel = el_model.predict(X_val_scaled)\n",
    "    \n",
    "    y_pred.append(y_pred_col)\n",
    "    y_predx.append(y_pred_colx)\n",
    "    y_predl.append(y_pred_coll)\n",
    "    y_predr.append(y_pred_colr)\n",
    "    y_predel.append(y_pred_colel)\n",
    "    \n",
    "y_pred = np.array(y_pred).T\n",
    "y_predx = np.array(y_predx).T\n",
    "y_predl = np.array(y_predl).T\n",
    "y_predr = np.array(y_predr).T\n",
    "y_predel = np.array(y_predel).T\n",
    "\n",
    "print(f'pridiction of Liner Regression: {y_pred}') \n",
    "print(f'prediction of XGB: {y_predx}') \n",
    "print(f'pridiction of Riged Regression: {y_predr}') \n",
    "print(f'prediction of Lasso Regression: {y_predl}') \n",
    "print(f'pridiction of Elastic Net Regression: {y_predel}') "
   ]
  },
  {
   "attachments": {},
   "cell_type": "markdown",
   "metadata": {},
   "source": [
    "SUBMITION\n"
   ]
  },
  {
   "cell_type": "code",
   "execution_count": 11,
   "metadata": {},
   "outputs": [],
   "source": [
    "def prepSub(y_pred:list, target_cols: list, test, prefix:str):\n",
    "    sub_df = pd.DataFrame(y_pred, columns=target_cols)\n",
    "    sub_df['Month'] = test['Month']\n",
    "    \n",
    "    sub_df.set_index('Month', inplace=True)\n",
    "    sub_df.columns = [prefix+'_' + col.lower().replace('_', ' ').strip() for col in sub_df.columns]\n",
    "    sub_df.rename(columns= {f\"{prefix}_headline cpi\": f\"{prefix}_headline CPI\"}, inplace=True)\n",
    "    \n",
    "    sub_df = pd.melt(sub_df.reset_index(), id_vars= ['Month'], var_name= 'ID', value_name= 'Value')\n",
    "    \n",
    "    return sub_df[['ID', 'Value']]"
   ]
  },
  {
   "cell_type": "code",
   "execution_count": 12,
   "metadata": {},
   "outputs": [],
   "source": [
    "y_insem\n",
    "sub = prepSub(y_predl, target_cols, test, 'July') \n",
    "sub.to_csv('out/lasso_with_lag_historic_check.csv', index=False)"
   ]
  }
 ],
 "metadata": {
  "kernelspec": {
   "display_name": "base",
   "language": "python",
   "name": "python3"
  },
  "language_info": {
   "codemirror_mode": {
    "name": "ipython",
    "version": 3
   },
   "file_extension": ".py",
   "mimetype": "text/x-python",
   "name": "python",
   "nbconvert_exporter": "python",
   "pygments_lexer": "ipython3",
   "version": "3.10.9"
  },
  "orig_nbformat": 4
 },
 "nbformat": 4,
 "nbformat_minor": 2
}
