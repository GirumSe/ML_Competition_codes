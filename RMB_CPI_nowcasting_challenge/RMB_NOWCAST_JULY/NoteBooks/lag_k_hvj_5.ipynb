{
 "cells": [
  {
   "attachments": {},
   "cell_type": "markdown",
   "metadata": {},
   "source": [
    "IMPORT"
   ]
  },
  {
   "cell_type": "code",
   "execution_count": 211,
   "metadata": {},
   "outputs": [],
   "source": [
    "import pandas as pd\n",
    "import numpy as np\n",
    "import seaborn as sns\n",
    "import matplotlib.pyplot as plt\n",
    "\n",
    "import math\n",
    "import datetime\n",
    "\n",
    "from sklearn.linear_model import LinearRegression, Ridge\n",
    "from sklearn.metrics import mean_squared_error\n",
    "from sklearn.preprocessing import StandardScaler, MinMaxScaler\n",
    "from sklearn.cluster import KMeans\n",
    "\n",
    "from xgboost import XGBRegressor\n",
    "\n",
    "import warnings\n",
    "warnings.filterwarnings('ignore')\n",
    "\n",
    "pd.options.display.max_columns = 2000\n",
    "pd.options.display.max_rows = 2000\n",
    "\n",
    "\n",
    "#path = '/Koding_With_Kolesh/challenges/RMB_NOWCAST_APRIL/'\n",
    "cpi = pd.read_csv('CPI_Historic_Values_Zindi_May_23.csv')\n",
    "vehicles = pd.read_csv('Naamsa_Vehicle_Sales.csv')\n",
    "rental = pd.read_csv('PayProp_Rental_Index.csv')\n",
    "jse = pd.read_csv('jse_indices.csv')\n",
    "currency = pd.read_csv('currency_data.csv')"
   ]
  },
  {
   "attachments": {},
   "cell_type": "markdown",
   "metadata": {},
   "source": [
    "PIVOTING THE DATA"
   ]
  },
  {
   "cell_type": "code",
   "execution_count": 212,
   "metadata": {},
   "outputs": [],
   "source": [
    "cpi_pivot = cpi.pivot(index = 'Month', columns = 'Category', values = 'Value').reset_index()#changing from a long format to a wide format,\n",
    "cpi_pivot['Month'] = pd.to_datetime(cpi_pivot['Month'])\n",
    "cpi_pivot = cpi_pivot.sort_values(\"Month\").reset_index(drop=True)"
   ]
  },
  {
   "attachments": {},
   "cell_type": "markdown",
   "metadata": {},
   "source": [
    "ADDING JUNE'S DATA MANUALLY FROM https://www.statssa.gov.za/publications/P0141/P0141June2023.pdf"
   ]
  },
  {
   "cell_type": "code",
   "execution_count": 213,
   "metadata": {},
   "outputs": [],
   "source": [
    "date_str = '2023-06-30'\n",
    "date_obj = pd.to_datetime(date_str)\n",
    "new_row = pd.DataFrame({'Month': [date_obj]})\n",
    "cpi_pivot = pd.concat([cpi_pivot, new_row]).reset_index(drop=True)\n",
    "cpi_of_june = [110.9, 104.3, 99.6, 110.4, 118.3, 109.8, 110.8, 107.7, 105.4, 109.6, 105.3, 110.0, 112.3]\n",
    "\n",
    "for i, col in enumerate(cpi_pivot.columns[1:]):\n",
    "    cpi_pivot.at[17, col] = cpi_of_june[i]"
   ]
  },
  {
   "attachments": {},
   "cell_type": "markdown",
   "metadata": {},
   "source": [
    "ADDIND  ADDITIONAL DATA"
   ]
  },
  {
   "attachments": {},
   "cell_type": "markdown",
   "metadata": {},
   "source": [
    "* Vehicles https://naamsa.net/wp-content/uploads/2023/07/20230703-Flash-Report-Summary-June-2023.pdf"
   ]
  },
  {
   "cell_type": "code",
   "execution_count": 214,
   "metadata": {},
   "outputs": [],
   "source": [
    "cpi_pivot['year_month'] = pd.to_datetime(cpi_pivot['Month'], format='%Y-%b').dt.strftime('%Y-%m')\n",
    "start_date = datetime.datetime.strptime(\"2020-12-31\", \"%Y-%m-%d\")\n",
    "end_date = datetime.datetime.strptime(\"2023-05-31\", \"%Y-%m-%d\")\n",
    "\n",
    "# difference between each date. M means one month end\n",
    "D = 'M'\n",
    "\n",
    "date_list = pd.date_range(start_date, end_date, freq=D)[::-1]\n",
    "vehicles['Date'] = date_list\n",
    "vehicles['Date'] = pd.to_datetime(vehicles['Date'], format='%Y-%b-%d')\n",
    "vehicles['year_month'] = pd.to_datetime(vehicles['Date'], format='%Y-%b').dt.strftime('%Y-%m')\n",
    "\n",
    "cpi_pivot = cpi_pivot.merge(vehicles[['year_month', 'Total_Local Sales', 'Total_Export_Sales']], on='year_month', how='left')\n",
    "namsa_of_june = [46810, 27296]\n",
    "\n",
    "for i, col in enumerate(cpi_pivot.columns[-2:]):\n",
    "    cpi_pivot.at[17, col] = namsa_of_june[i]"
   ]
  },
  {
   "attachments": {},
   "cell_type": "markdown",
   "metadata": {},
   "source": [
    "* jse_indices"
   ]
  },
  {
   "cell_type": "code",
   "execution_count": 215,
   "metadata": {},
   "outputs": [],
   "source": [
    "jse['date'] = pd.to_datetime(jse['date'])  # Convert 'Date' column to pandas datetime format\n",
    "jse.set_index('date', inplace=True)\n",
    "jse_monthly_avg = jse.resample('M').mean()\n",
    "cpi_pivot = pd.merge(cpi_pivot,jse_monthly_avg,  right_index=True, left_on='Month', how='inner')\n",
    "cpi_pivot.drop(['Mid Cap Index', 'Small Cap Index',], axis=1, inplace=True)"
   ]
  },
  {
   "attachments": {},
   "cell_type": "markdown",
   "metadata": {},
   "source": [
    "ADD THE july ROW"
   ]
  },
  {
   "cell_type": "code",
   "execution_count": 216,
   "metadata": {},
   "outputs": [],
   "source": [
    "date_str = '2023-07-31'\n",
    "date_obj = pd.to_datetime(date_str)\n",
    "new_row = pd.DataFrame({'Month': [date_obj]})\n",
    "cpi_pivot = pd.concat([cpi_pivot, new_row]).reset_index(drop=True)"
   ]
  },
  {
   "attachments": {},
   "cell_type": "markdown",
   "metadata": {},
   "source": [
    "FEATURE ENGINNERING"
   ]
  },
  {
   "cell_type": "code",
   "execution_count": 217,
   "metadata": {},
   "outputs": [],
   "source": [
    "feats_to_lag = [col for col in cpi_pivot.columns if col not in ['Month', 'year_month']]\n",
    "for col in feats_to_lag:\n",
    "  for i in range(1, 6):\n",
    "    cpi_pivot[f\"prev_{i}_month_{col}\"]= cpi_pivot[col].shift(i)"
   ]
  },
  {
   "attachments": {},
   "cell_type": "markdown",
   "metadata": {},
   "source": [
    "HANDLE MISSING DATA"
   ]
  },
  {
   "cell_type": "code",
   "execution_count": 218,
   "metadata": {},
   "outputs": [],
   "source": [
    "# Extract the columns containing the target names\n",
    "target_columns = [col for col in cpi_pivot.columns if any(name in col for name in ['Top 40 Index','All-Share Index', 'Large Cap Index', 'Fin 15 Index'])]\n",
    "\n",
    "# Create a KMeans imputer for each target column separately\n",
    "for col in target_columns:\n",
    "    # Initialize the KMeans imputer with the number of clusters you desire\n",
    "    kmeans_imputer = KMeans(n_clusters=5)  # You can adjust the number of clusters as needed\n",
    "    \n",
    "    # Filter non-null values and fit KMeans to them\n",
    "    non_null_values = cpi_pivot.dropna(subset=[col])\n",
    "    kmeans_imputer.fit(non_null_values[col].values.reshape(-1, 1))\n",
    "    \n",
    "    # Predict cluster centers for non-null values\n",
    "    non_null_values_clusters = kmeans_imputer.predict(non_null_values[col].values.reshape(-1, 1))\n",
    "    \n",
    "    # Reshape cluster centers to 1-dimensional array\n",
    "    cluster_centers_1d = kmeans_imputer.cluster_centers_.flatten()\n",
    "    \n",
    "    # Fill the NaN values in the column with the predicted cluster centers\n",
    "    cpi_pivot[col].fillna(pd.Series(cluster_centers_1d[non_null_values_clusters], index=non_null_values.index), inplace=True)\n"
   ]
  },
  {
   "cell_type": "code",
   "execution_count": 219,
   "metadata": {},
   "outputs": [],
   "source": [
    "cpi_pivot = cpi_pivot.drop(0)\n",
    "cpi_pivot = cpi_pivot.bfill()"
   ]
  },
  {
   "attachments": {},
   "cell_type": "markdown",
   "metadata": {},
   "source": [
    "TRAIN AND VALIDATION"
   ]
  },
  {
   "cell_type": "code",
   "execution_count": 220,
   "metadata": {},
   "outputs": [
    {
     "data": {
      "text/plain": [
       "((17, 116), (1, 116), (16, 116), (1, 116))"
      ]
     },
     "execution_count": 220,
     "metadata": {},
     "output_type": "execute_result"
    }
   ],
   "source": [
    "train = cpi_pivot[cpi_pivot['Month'] != \"2023-07-31\"]\n",
    "test = cpi_pivot[cpi_pivot['Month'] == \"2023-07-31\"]\n",
    "\n",
    "training_set = train[train['Month']!= '2023-06-30']\n",
    "validation_set = train[train['Month']== '2023-06-30']\n",
    "\n",
    "train.shape, test.shape, training_set.shape, validation_set.shape"
   ]
  },
  {
   "attachments": {},
   "cell_type": "markdown",
   "metadata": {},
   "source": [
    "MODELING"
   ]
  },
  {
   "cell_type": "code",
   "execution_count": 221,
   "metadata": {},
   "outputs": [
    {
     "name": "stdout",
     "output_type": "stream",
     "text": [
      "RMSE of Liner Regression: 1.2847860949796923\n",
      "RMSE of XGB: 0.41593481771500934\n"
     ]
    }
   ],
   "source": [
    "target_cols = ['Alcoholic beverages and tobacco', 'Clothing and footwear',\n",
    "       'Communication', 'Education', 'Food and non-alcoholic beverages',\n",
    "       'Headline_CPI', 'Health', 'Household contents and services',\n",
    "       'Housing and utilities', 'Miscellaneous goods and services',\n",
    "       'Recreation and culture', 'Restaurants and hotels ', 'Transport']\n",
    "\n",
    "not_included = ['Top 40 Index', 'All-Share Index',\n",
    "       'Large Cap Index', 'Fin 15 Index', 'Month', 'year_month','Total_Local Sales', 'Total_Export_Sales']\n",
    "\n",
    "#if you add additional data sources that have no value in the predicting month , drop it, now that you have their lags\n",
    "features= [col for col in train.columns if col not in target_cols + not_included]\n",
    "\n",
    "\n",
    "X_train = training_set[features]\n",
    "y_train = training_set[target_cols]\n",
    "\n",
    "X_val = validation_set[features]\n",
    "y_val = validation_set[target_cols]\n",
    "\n",
    "x_models = {}\n",
    "lr_models = {}\n",
    "y_pred = []\n",
    "y_predx = []\n",
    "scaler = MinMaxScaler()\n",
    "\n",
    "#training\n",
    "for target_col in target_cols:\n",
    "    lr_model = LinearRegression()\n",
    "    x_model = XGBRegressor()\n",
    "    X_train_scaled = scaler.fit_transform(X_train)\n",
    "    lr_model.fit(X_train_scaled, y_train[target_col])\n",
    "    x_model.fit(X_train_scaled, y_train[target_col])\n",
    "    lr_models[target_col] = lr_model\n",
    "    x_models[target_col] = x_model\n",
    "#validation\n",
    "for target_col in target_cols:\n",
    "    lr_model = lr_models[target_col]\n",
    "    x_model = x_models[target_col]\n",
    "    X_val_scaled = scaler.transform(X_val)\n",
    "    y_pred_col = lr_model.predict(X_val_scaled)\n",
    "    y_pred_colx = x_model.predict(X_val_scaled)\n",
    "    y_pred.append(y_pred_col)\n",
    "    y_predx.append(y_pred_colx)\n",
    "\n",
    "\n",
    "#scoring\n",
    "\n",
    "y_pred = np.array(y_pred).T\n",
    "y_predx = np.array(y_predx).T\n",
    "df = pd.DataFrame({'y_pred': y_pred.flatten(), 'y_val': y_val.values.flatten()})\n",
    "dfx = pd.DataFrame({'y_pred': y_predx.flatten(), 'y_val': y_val.values.flatten()})\n",
    "#calculate the rmse\n",
    "rmse = np.sqrt(mean_squared_error(df['y_pred'], df['y_val']))\n",
    "rmsex = np.sqrt(mean_squared_error(dfx['y_pred'], df['y_val']))\n",
    "print(f'RMSE of Liner Regression: {rmse}') \n",
    "print(f'RMSE of XGB: {rmsex}') "
   ]
  },
  {
   "cell_type": "code",
   "execution_count": 222,
   "metadata": {},
   "outputs": [
    {
     "name": "stdout",
     "output_type": "stream",
     "text": [
      "pridiction of Liner Regression: [[110.48965713 104.40039987  98.50114215 108.85978376 119.65346875\n",
      "  110.61748385 110.44771364 107.77174776 106.82800545 110.26336741\n",
      "  106.38961241 109.88281078 112.9697659 ]]\n",
      "prediction of XGB: [[110.89848  104.29873   99.65686  110.39956  118.29866  109.79878\n",
      "  110.79808  107.68143  105.39845  109.486275 105.29846  110.39842\n",
      "  113.19369 ]]\n"
     ]
    }
   ],
   "source": [
    "X_train = train[features]\n",
    "y_train = train[target_cols]\n",
    "\n",
    "X_val = test[features]\n",
    "y_val = test[target_cols]\n",
    "\n",
    "x_models = {}\n",
    "lr_models = {}\n",
    "y_pred = []\n",
    "y_predx = []\n",
    "scaler = MinMaxScaler()\n",
    "\n",
    "#training\n",
    "for target_col in target_cols:\n",
    "    lr_model = LinearRegression()\n",
    "    x_model = XGBRegressor()\n",
    "    X_train_scaled = scaler.fit_transform(X_train)\n",
    "    lr_model.fit(X_train_scaled, y_train[target_col])\n",
    "    x_model.fit(X_train_scaled, y_train[target_col])\n",
    "    lr_models[target_col] = lr_model\n",
    "    x_models[target_col] = x_model\n",
    "#pridiction\n",
    "for target_col in target_cols:\n",
    "    lr_model = lr_models[target_col]\n",
    "    x_model = x_models[target_col]\n",
    "    X_val_scaled = scaler.transform(X_val)\n",
    "    y_pred_col = lr_model.predict(X_val_scaled)\n",
    "    y_pred_colx = x_model.predict(X_val_scaled)\n",
    "    y_pred.append(y_pred_col)\n",
    "    y_predx.append(y_pred_colx)\n",
    "\n",
    "y_pred = np.array(y_pred).T\n",
    "y_predx = np.array(y_predx).T\n",
    "print(f'pridiction of Liner Regression: {y_pred}') \n",
    "print(f'prediction of XGB: {y_predx}') "
   ]
  },
  {
   "attachments": {},
   "cell_type": "markdown",
   "metadata": {},
   "source": [
    "SUBMITION"
   ]
  },
  {
   "cell_type": "code",
   "execution_count": 223,
   "metadata": {},
   "outputs": [],
   "source": [
    "def prepSub(y_pred:list, target_cols: list, test, prefix:str):\n",
    "    sub_df = pd.DataFrame(y_pred, columns=target_cols)\n",
    "    sub_df['Month'] = test['Month']\n",
    "    \n",
    "    sub_df.set_index('Month', inplace=True)\n",
    "    sub_df.columns = [prefix+'_' + col.lower().replace('_', ' ').strip() for col in sub_df.columns]\n",
    "    sub_df.rename(columns= {f\"{prefix}_headline cpi\": f\"{prefix}_headline CPI\"}, inplace=True)\n",
    "    \n",
    "    sub_df = pd.melt(sub_df.reset_index(), id_vars= ['Month'], var_name= 'ID', value_name= 'Value')\n",
    "    \n",
    "    return sub_df[['ID', 'Value']]"
   ]
  },
  {
   "cell_type": "code",
   "execution_count": 225,
   "metadata": {},
   "outputs": [],
   "source": [
    "sub = prepSub(y_pred, target_cols, test, 'July') \n",
    "sub.to_csv('out/liner_with_lag5_hvj_k.csv', index=False)"
   ]
  }
 ],
 "metadata": {
  "kernelspec": {
   "display_name": "base",
   "language": "python",
   "name": "python3"
  },
  "language_info": {
   "codemirror_mode": {
    "name": "ipython",
    "version": 3
   },
   "file_extension": ".py",
   "mimetype": "text/x-python",
   "name": "python",
   "nbconvert_exporter": "python",
   "pygments_lexer": "ipython3",
   "version": "3.10.9"
  },
  "orig_nbformat": 4
 },
 "nbformat": 4,
 "nbformat_minor": 2
}
