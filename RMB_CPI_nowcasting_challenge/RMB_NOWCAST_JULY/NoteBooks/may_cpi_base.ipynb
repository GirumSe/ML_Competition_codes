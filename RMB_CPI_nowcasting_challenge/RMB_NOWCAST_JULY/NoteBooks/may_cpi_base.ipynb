{
 "cells": [
  {
   "attachments": {},
   "cell_type": "markdown",
   "metadata": {},
   "source": [
    "IMPORT"
   ]
  },
  {
   "cell_type": "code",
   "execution_count": 54,
   "metadata": {},
   "outputs": [],
   "source": [
    "import pandas as pd\n",
    "import numpy as np\n",
    "import seaborn as sns\n",
    "import matplotlib.pyplot as plt\n",
    "\n",
    "import math\n",
    "\n",
    "\n",
    "from sklearn.linear_model import LinearRegression, Ridge, Lasso, ElasticNet\n",
    "from sklearn.preprocessing import PolynomialFeatures\n",
    "from statsmodels.api import OLS\n",
    "import statsmodels.api as sm\n",
    "from sklearn.metrics import mean_squared_error\n",
    "from sklearn.preprocessing import StandardScaler, MinMaxScaler\n",
    "\n",
    "from xgboost import XGBRegressor\n",
    "\n",
    "from lightgbm import LGBMRegressor\n",
    "\n",
    "import warnings\n",
    "warnings.filterwarnings('ignore')\n",
    "\n",
    "pd.options.display.max_columns = 2000\n",
    "pd.options.display.max_rows = 2000\n",
    "\n",
    "\n",
    "#path = '/Koding_With_Kolesh/challenges/RMB_NOWCAST_APRIL/'\n",
    "cpi = pd.read_csv('CPI_Historic_Values_Zindi_May_23.csv')\n",
    "vehicles = pd.read_csv('Naamsa_Vehicle_Sales.csv')\n",
    "rental = pd.read_csv('PayProp_Rental_Index.csv')\n",
    "jse = pd.read_csv('jse_indices.csv')\n",
    "currency = pd.read_csv('currency_data.csv')\n",
    "expectation = pd.read_excel(\"Infl_Surv_History2023.xlsx\", sheet_name=\"CPI 5a\", header=1)\n",
    "seed = 3"
   ]
  },
  {
   "attachments": {},
   "cell_type": "markdown",
   "metadata": {},
   "source": [
    "PIVOTING THE DATA"
   ]
  },
  {
   "cell_type": "code",
   "execution_count": 55,
   "metadata": {},
   "outputs": [],
   "source": [
    "cpi_pivot = cpi.pivot(index = 'Month', columns = 'Category', values = 'Value').reset_index()#changing from a long format to a wide format,\n",
    "cpi_pivot['Month'] = pd.to_datetime(cpi_pivot['Month'])\n",
    "cpi_pivot = cpi_pivot.sort_values(\"Month\").reset_index(drop=True)"
   ]
  },
  {
   "attachments": {},
   "cell_type": "markdown",
   "metadata": {},
   "source": [
    "ADDING JUNE'S DATA MANUALLY FROM https://www.statssa.gov.za/publications/P0141/P0141June2023.pdf"
   ]
  },
  {
   "cell_type": "code",
   "execution_count": 56,
   "metadata": {},
   "outputs": [],
   "source": [
    "date_str = '2023-06-30'\n",
    "date_obj = pd.to_datetime(date_str)\n",
    "new_row = pd.DataFrame({'Month': [date_obj]})\n",
    "cpi_pivot = pd.concat([cpi_pivot, new_row]).reset_index(drop=True)\n",
    "cpi_of_june = [110.9, 104.3, 99.6, 110.4, 118.3, 109.8, 110.8, 107.7, 105.4, 109.6, 105.3, 110.0, 112.3]\n",
    "\n",
    "for i, col in enumerate(cpi_pivot.columns[1:]):\n",
    "    cpi_pivot.at[17, col] = cpi_of_june[i]"
   ]
  },
  {
   "attachments": {},
   "cell_type": "markdown",
   "metadata": {},
   "source": [
    "ADDIND  ADDITIONAL DATA"
   ]
  },
  {
   "attachments": {},
   "cell_type": "markdown",
   "metadata": {},
   "source": [
    "* Vehicles https://naamsa.net/wp-content/uploads/2023/07/20230703-Flash-Report-Summary-June-2023.pdf"
   ]
  },
  {
   "cell_type": "code",
   "execution_count": 57,
   "metadata": {},
   "outputs": [],
   "source": [
    "import datetime\n",
    "\n",
    "\n",
    "cpi_pivot['year_month'] = pd.to_datetime(cpi_pivot['Month'], format='%Y-%b').dt.strftime('%Y-%m')\n",
    "start_date = datetime.datetime.strptime(\"2020-12-31\", \"%Y-%m-%d\")\n",
    "end_date = datetime.datetime.strptime(\"2023-05-31\", \"%Y-%m-%d\")\n",
    "\n",
    "# difference between each date. M means one month end\n",
    "D = 'M'\n",
    "\n",
    "date_list = pd.date_range(start_date, end_date, freq=D)[::-1]\n",
    "vehicles['Date'] = date_list\n",
    "vehicles['Date'] = pd.to_datetime(vehicles['Date'], format='%Y-%b-%d')\n",
    "vehicles['year_month'] = pd.to_datetime(vehicles['Date'], format='%Y-%b').dt.strftime('%Y-%m')\n",
    "\n",
    "cpi_pivot = cpi_pivot.merge(vehicles[['year_month', 'Total_Local Sales', 'Total_Export_Sales']], on='year_month', how='left')\n",
    "namsa_of_june = [46810, 27296]\n",
    "\n",
    "for i, col in enumerate(cpi_pivot.columns[-2:]):\n",
    "    cpi_pivot.at[17, col] = namsa_of_june[i]"
   ]
  },
  {
   "attachments": {},
   "cell_type": "markdown",
   "metadata": {},
   "source": [
    "* jse_indices"
   ]
  },
  {
   "cell_type": "code",
   "execution_count": 58,
   "metadata": {},
   "outputs": [],
   "source": [
    "jse['date'] = pd.to_datetime(jse['date'])  # Convert 'Date' column to pandas datetime format\n",
    "jse.set_index('date', inplace=True)\n",
    "jse_monthly_avg = jse.resample('M').mean()\n",
    "cpi_pivot = pd.merge(cpi_pivot,jse_monthly_avg,  right_index=True, left_on='Month', how='inner')\n",
    "cpi_pivot.drop(['Mid Cap Index', 'Small Cap Index',], axis=1, inplace=True)"
   ]
  },
  {
   "attachments": {},
   "cell_type": "markdown",
   "metadata": {},
   "source": [
    "* inflation_expectation"
   ]
  },
  {
   "cell_type": "code",
   "execution_count": 59,
   "metadata": {},
   "outputs": [],
   "source": [
    "cpi_pivot['quarter'] = pd.PeriodIndex(cpi_pivot.Month, freq='Q')\n",
    "cpi_pivot['quarter'] = cpi_pivot['quarter'].astype(str)\n",
    "cpi_pivot['quarter'] = cpi_pivot['quarter'].str.replace(r'(\\d{4})Q(\\d)', r'\\1-\\2', regex=True)\n",
    "expectation.rename(columns={\"Unnamed: 0\" : \"names\"} , inplace=True)\n",
    "expectation = expectation.transpose()\n",
    "expectation.columns = expectation.iloc[0]\n",
    "expectation = expectation[1:]\n",
    "expectation.reset_index(inplace=True)\n",
    "expectation.rename(columns={\"index\" : \"quarter\"} , inplace=True)\n",
    "expectation['quarter'] = expectation['quarter'].str.replace(r'(\\d{4})Q(\\d)', r'\\1-\\2', regex=True)\n",
    "expectation = expectation[expectation['quarter'] >= '2022-1']\n",
    "expectation.reset_index(drop=True, inplace=True)\n",
    "cpi_pivot = cpi_pivot.merge(expectation, on='quarter', suffixes=('_cpi', '_expectation'))"
   ]
  },
  {
   "attachments": {},
   "cell_type": "markdown",
   "metadata": {},
   "source": [
    "ADD THE july ROW"
   ]
  },
  {
   "cell_type": "code",
   "execution_count": 60,
   "metadata": {},
   "outputs": [],
   "source": [
    "date_str = '2023-07-31'\n",
    "date_obj = pd.to_datetime(date_str)\n",
    "new_row = pd.DataFrame({'Month': [date_obj]})\n",
    "cpi_pivot = pd.concat([cpi_pivot, new_row]).reset_index(drop=True)"
   ]
  },
  {
   "attachments": {},
   "cell_type": "markdown",
   "metadata": {},
   "source": [
    "FEATURE ENGINNERING"
   ]
  },
  {
   "cell_type": "code",
   "execution_count": 61,
   "metadata": {},
   "outputs": [],
   "source": [
    "feats_to_lag = [col for col in cpi_pivot.columns if col not in ['Month', 'year_month', 'quarter']]\n",
    "for col in feats_to_lag:\n",
    "  for i in range(2, 10):\n",
    "    cpi_pivot[f\"prev_{i}_month_{col}\"]= cpi_pivot[col].shift(i)"
   ]
  },
  {
   "attachments": {},
   "cell_type": "markdown",
   "metadata": {},
   "source": [
    "HANDLE MISSING DATA"
   ]
  },
  {
   "cell_type": "code",
   "execution_count": 62,
   "metadata": {},
   "outputs": [],
   "source": [
    "# Extract the columns containing the target names\n",
    "from sklearn.cluster import KMeans\n",
    "\n",
    "\n",
    "target_columns = [col for col in cpi_pivot.columns if any(name in col for name in ['Top 40 Index','All-Share Index', 'Large Cap Index', 'Fin 15 Index'])]\n",
    "\n",
    "# Create a KMeans imputer for each target column separately\n",
    "for col in target_columns:\n",
    "    # Initialize the KMeans imputer with the number of clusters you desire\n",
    "    kmeans_imputer = KMeans(n_clusters=5)  # You can adjust the number of clusters as needed\n",
    "    \n",
    "    # Filter non-null values and fit KMeans to them\n",
    "    non_null_values = cpi_pivot.dropna(subset=[col])\n",
    "    kmeans_imputer.fit(non_null_values[col].values.reshape(-1, 1))\n",
    "    \n",
    "    # Predict cluster centers for non-null values\n",
    "    non_null_values_clusters = kmeans_imputer.predict(non_null_values[col].values.reshape(-1, 1))\n",
    "    \n",
    "    # Reshape cluster centers to 1-dimensional array\n",
    "    cluster_centers_1d = kmeans_imputer.cluster_centers_.flatten()\n",
    "    \n",
    "    # Fill the NaN values in the column with the predicted cluster centers\n",
    "    cpi_pivot[col].fillna(pd.Series(cluster_centers_1d[non_null_values_clusters], index=non_null_values.index), inplace=True)\n"
   ]
  },
  {
   "cell_type": "code",
   "execution_count": 63,
   "metadata": {},
   "outputs": [],
   "source": [
    "cpi_pivot = cpi_pivot.drop(0)\n",
    "cpi_pivot = cpi_pivot.bfill()"
   ]
  },
  {
   "attachments": {},
   "cell_type": "markdown",
   "metadata": {},
   "source": [
    "TRAIN AND VALIDATION"
   ]
  },
  {
   "cell_type": "code",
   "execution_count": 64,
   "metadata": {},
   "outputs": [
    {
     "data": {
      "text/plain": [
       "((17, 210), (1, 210), (16, 210), (1, 210))"
      ]
     },
     "execution_count": 64,
     "metadata": {},
     "output_type": "execute_result"
    }
   ],
   "source": [
    "train = cpi_pivot[cpi_pivot['Month'] != \"2023-07-31\"]\n",
    "test = cpi_pivot[cpi_pivot['Month'] == \"2023-07-31\"]\n",
    "\n",
    "training_set = train[train['Month']!= '2023-06-30']\n",
    "validation_set = train[train['Month']== '2023-06-30']\n",
    "\n",
    "train.shape, test.shape, training_set.shape, validation_set.shape"
   ]
  },
  {
   "attachments": {},
   "cell_type": "markdown",
   "metadata": {},
   "source": [
    "MODELING"
   ]
  },
  {
   "cell_type": "code",
   "execution_count": 65,
   "metadata": {},
   "outputs": [
    {
     "name": "stdout",
     "output_type": "stream",
     "text": [
      "RMSE of Liner Regression: 0.4874226308892279\n",
      "RMSE of XGB: 0.416477194955849\n",
      "RMSE of Lasso Regression: 1.2612608342290703\n",
      "RMSE of Riged Regression: 1.3919123468402173\n",
      "RMSE of LGBM Regression: 4.2115556106530265\n",
      "RMSE of ensemble: 0.6712232042423427\n"
     ]
    }
   ],
   "source": [
    "target_cols = ['Alcoholic beverages and tobacco', 'Clothing and footwear',\n",
    "       'Communication', 'Education', 'Food and non-alcoholic beverages',\n",
    "       'Headline_CPI', 'Health', 'Household contents and services',\n",
    "       'Housing and utilities', 'Miscellaneous goods and services',\n",
    "       'Recreation and culture', 'Restaurants and hotels ', 'Transport']\n",
    "\n",
    "not_included = ['Top 40 Index', 'All-Share Index',\n",
    "       'Large Cap Index', 'Fin 15 Index', 'Month', 'year_month','Total_Local Sales', 'Total_Export_Sales', 'quarter', 'Total',\t'Analysts',\t'Business',\t'Labour']\n",
    "\n",
    "#if you add additional data sources that have no value in the predicting month , drop it, now that you have their lags\n",
    "features= [col for col in train.columns if col not in target_cols + not_included]\n",
    "\n",
    "\n",
    "X_train = training_set[features]\n",
    "y_train = training_set[target_cols]\n",
    "\n",
    "X_val = validation_set[features]\n",
    "y_val = validation_set[target_cols]\n",
    "\n",
    "x_models = {}\n",
    "lr_models = {}\n",
    "l_models = {}\n",
    "r_models = {}\n",
    "el_models = {}\n",
    "bp = {}\n",
    "\n",
    "y_pred = []\n",
    "y_predx = []\n",
    "y_predl = []\n",
    "y_predr = []\n",
    "y_predel = []\n",
    "\n",
    "scaler = MinMaxScaler()\n",
    "\n",
    "def objective(trial):\n",
    "    alpha = trial.suggest_loguniform('alpha', 1e-5, 100)  # Ridge regularization strength\n",
    "    fit_intercept = trial.suggest_categorical('fit_intercept', [True, False])\n",
    "    copy_X = trial.suggest_categorical('copy_X', [True, False])\n",
    "    max_iter = trial.suggest_int('max_iter', 100, 1000)\n",
    "    tol = trial.suggest_loguniform('tol', 1e-6, 1e-3)\n",
    "    solver = trial.suggest_categorical('solver', ['auto', 'svd', 'cholesky', 'lsqr', 'sparse_cg', 'sag', 'saga'])\n",
    "\n",
    "    r_model = Ridge(alpha=alpha, fit_intercept=fit_intercept, copy_X=copy_X, max_iter=max_iter, tol=tol, solver=solver,)\n",
    "    r_model.fit(X_train, y_train[target_col])\n",
    "    y_pred_colr = r_model.predict(X_val)\n",
    "    return mean_squared_error(y_val[target_col], y_pred_colr)\n",
    "\n",
    "#training\n",
    "for target_col in target_cols:\n",
    "    #study = optuna.create_study(direction='minimize')\n",
    "    #study.optimize(objective, n_trials=50)\n",
    "    #best_params = study.best_params\n",
    "    \n",
    "    lr_model = LinearRegression()\n",
    "    x_model = XGBRegressor(seed=seed)\n",
    "    r_model = Ridge(random_state=seed)\n",
    "    l_model = Lasso(alpha=0.1, random_state=seed)\n",
    "    el_model = LGBMRegressor(learning_rate=0.2, random_state= seed)\n",
    "    \n",
    "    X_train_scaled = scaler.fit_transform(X_train)\n",
    "    \n",
    "    lr_model.fit(X_train_scaled, y_train[target_col])\n",
    "    x_model.fit(X_train_scaled, y_train[target_col])\n",
    "    r_model.fit(X_train, y_train[target_col])\n",
    "    l_model.fit(X_train_scaled, y_train[target_col])\n",
    "    el_model.fit(X_train_scaled, y_train[target_col])\n",
    "    \n",
    "    lr_models[target_col] = lr_model\n",
    "    l_models[target_col] = l_model\n",
    "    r_models[target_col] = r_model\n",
    "    el_models[target_col] = el_model\n",
    "    x_models[target_col] = x_model\n",
    "    #bp[target_col] = best_params\n",
    "#validation\n",
    "for target_col in target_cols:\n",
    "    lr_model = lr_models[target_col]\n",
    "    x_model = x_models[target_col]\n",
    "    l_model = l_models[target_col]\n",
    "    r_model = r_models[target_col]\n",
    "    el_model = el_models[target_col]\n",
    "    \n",
    "    X_val_scaled = scaler.transform(X_val)\n",
    "    \n",
    "    y_pred_col = lr_model.predict(X_val_scaled)\n",
    "    y_pred_colx = x_model.predict(X_val_scaled)\n",
    "    y_pred_coll = l_model.predict(X_val_scaled)\n",
    "    y_pred_colr = r_model.predict(X_val)\n",
    "    y_pred_colel = el_model.predict(X_val_scaled)\n",
    "    \n",
    "    y_pred.append(y_pred_col)\n",
    "    y_predx.append(y_pred_colx)\n",
    "    y_predl.append(y_pred_coll)\n",
    "    y_predr.append(y_pred_colr)\n",
    "    y_predel.append(y_pred_colel)\n",
    "\n",
    "#scoring\n",
    "\n",
    "y_pred = np.array(y_pred).T\n",
    "y_predx = np.array(y_predx).T\n",
    "y_predl = np.array(y_predl).T\n",
    "y_predr = np.array(y_predr).T\n",
    "y_predel = np.array(y_predel).T\n",
    "y_prede = (y_pred + (2 * y_predl) + y_predr) / 4\n",
    "\n",
    "df = pd.DataFrame({'y_pred': y_pred.flatten(), 'y_val': y_val.values.flatten()})\n",
    "dfx = pd.DataFrame({'y_pred': y_predx.flatten(), 'y_val': y_val.values.flatten()})\n",
    "dfl = pd.DataFrame({'y_pred': y_predl.flatten(), 'y_val': y_val.values.flatten()})\n",
    "dfr = pd.DataFrame({'y_pred': y_predr.flatten(), 'y_val': y_val.values.flatten()})\n",
    "dfel = pd.DataFrame({'y_pred': y_predel.flatten(), 'y_val': y_val.values.flatten()})\n",
    "dfe = pd.DataFrame({'y_pred': y_prede.flatten(), 'y_val': y_val.values.flatten()})\n",
    "#calculate the rmse\n",
    "rmse = np.sqrt(mean_squared_error(df['y_pred'], df['y_val']))\n",
    "rmsex = np.sqrt(mean_squared_error(dfx['y_pred'], df['y_val']))\n",
    "rmsel = np.sqrt(mean_squared_error(dfl['y_pred'], df['y_val']))\n",
    "rmser = np.sqrt(mean_squared_error(dfr['y_pred'], df['y_val']))\n",
    "rmseel = np.sqrt(mean_squared_error(dfel['y_pred'], df['y_val']))\n",
    "ensemble = np.sqrt(mean_squared_error(dfe['y_pred'], df['y_val']))\n",
    "\n",
    "print(f'RMSE of Liner Regression: {rmse}') \n",
    "print(f'RMSE of XGB: {rmsex}') \n",
    "print(f'RMSE of Lasso Regression: {rmsel}') \n",
    "print(f'RMSE of Riged Regression: {rmser}') \n",
    "print(f'RMSE of LGBM Regression: {rmseel}') \n",
    "print(f'RMSE of ensemble: {ensemble}') "
   ]
  },
  {
   "cell_type": "code",
   "execution_count": 66,
   "metadata": {},
   "outputs": [
    {
     "name": "stdout",
     "output_type": "stream",
     "text": [
      "pridiction of Liner Regression: [[111.34412614 104.48518689  99.13317242 110.89351561 118.8441295\n",
      "  110.59617632 111.15517618 107.67468442 106.0555711  110.26390148\n",
      "  105.61882307 110.86003135 114.63263356]]\n",
      "prediction of XGB: [[110.89763  104.29881   99.43773  110.39957  118.29882  109.79882\n",
      "  110.7975   107.68491  105.39873  109.495094 105.29831  110.19052\n",
      "  113.730865]]\n",
      "pridiction of Riged Regression: [[109.67999688 103.61693359  99.29051114 109.67242499 115.882396\n",
      "  109.62174707 109.8993928  105.91923813 105.25482635 108.69948687\n",
      "  104.59016464 109.39415613 116.45907255]]\n",
      "prediction of Lasso Regression: [[110.65109441 104.28659571  99.68823529 109.85358547 119.74854259\n",
      "  111.99275184 110.1628293  107.96568577 107.32827955 110.00937602\n",
      "  106.15744294 110.29929447 116.53702306]]\n",
      "pridiction of LGBM Regression: [[106.09411711 102.34117665  99.68823511 105.55294261 110.74705954\n",
      "  106.08823574 105.8411762  104.63529385 103.05294037 105.08235348\n",
      "  102.68235375 106.39411837 110.5       ]]\n"
     ]
    }
   ],
   "source": [
    "X_train = train[features]\n",
    "y_train = train[target_cols]\n",
    "\n",
    "X_val = test[features]\n",
    "y_val = test[target_cols]\n",
    "\n",
    "x_models = {}\n",
    "lr_models = {}\n",
    "l_models = {}\n",
    "r_models = {}\n",
    "el_models = {}\n",
    "\n",
    "y_pred = []\n",
    "y_predx = []\n",
    "y_predl = []\n",
    "y_predr = []\n",
    "y_predel = []\n",
    "\n",
    "scaler = MinMaxScaler()\n",
    "\n",
    "#training\n",
    "for target_col in target_cols:\n",
    "    lr_model = LinearRegression()\n",
    "    x_model = XGBRegressor(seed=seed)\n",
    "    r_model = Ridge(random_state=seed)\n",
    "    l_model = Lasso(alpha=0.1, random_state=seed)\n",
    "    el_model = LGBMRegressor(learning_rate=0.2, random_state= seed)\n",
    "    \n",
    "    X_train_scaled = scaler.fit_transform(X_train)\n",
    "    \n",
    "    lr_model.fit(X_train_scaled, y_train[target_col])\n",
    "    x_model.fit(X_train_scaled, y_train[target_col])\n",
    "    r_model.fit(X_train, y_train[target_col])\n",
    "    l_model.fit(X_train_scaled, y_train[target_col])\n",
    "    el_model.fit(X_train_scaled, y_train[target_col])\n",
    "    \n",
    "    lr_models[target_col] = lr_model\n",
    "    l_models[target_col] = l_model\n",
    "    r_models[target_col] = r_model\n",
    "    el_models[target_col] = el_model\n",
    "    x_models[target_col] = x_model\n",
    "    \n",
    "#pridiction\n",
    "for target_col in target_cols:\n",
    "    lr_model = lr_models[target_col]\n",
    "    x_model = x_models[target_col]\n",
    "    l_model = l_models[target_col]\n",
    "    r_model = r_models[target_col]\n",
    "    el_model = el_models[target_col]\n",
    "    \n",
    "    X_val_scaled = scaler.transform(X_val)\n",
    "    \n",
    "    y_pred_col = lr_model.predict(X_val_scaled)\n",
    "    y_pred_colx = x_model.predict(X_val_scaled)\n",
    "    y_pred_coll = l_model.predict(X_val_scaled)\n",
    "    y_pred_colr = r_model.predict(X_val)\n",
    "    y_pred_colel = el_model.predict(X_val_scaled)\n",
    "    \n",
    "    y_pred.append(y_pred_col)\n",
    "    y_predx.append(y_pred_colx)\n",
    "    y_predl.append(y_pred_coll)\n",
    "    y_predr.append(y_pred_colr)\n",
    "    y_predel.append(y_pred_colel)\n",
    "    \n",
    "y_pred = np.array(y_pred).T\n",
    "y_predx = np.array(y_predx).T\n",
    "y_predl = np.array(y_predl).T\n",
    "y_predr = np.array(y_predr).T\n",
    "y_predel = np.array(y_predel).T\n",
    "\n",
    "print(f'pridiction of Liner Regression: {y_pred}') \n",
    "print(f'prediction of XGB: {y_predx}') \n",
    "print(f'pridiction of Riged Regression: {y_predr}') \n",
    "print(f'prediction of Lasso Regression: {y_predl}') \n",
    "print(f'pridiction of LGBM Regression: {y_predel}') "
   ]
  },
  {
   "attachments": {},
   "cell_type": "markdown",
   "metadata": {},
   "source": [
    "SUBMITION"
   ]
  },
  {
   "cell_type": "code",
   "execution_count": 67,
   "metadata": {},
   "outputs": [],
   "source": [
    "def prepSub(y_pred:list, target_cols: list, test, prefix:str):\n",
    "    sub_df = pd.DataFrame(y_pred, columns=target_cols)\n",
    "    sub_df['Month'] = test['Month']\n",
    "    \n",
    "    sub_df.set_index('Month', inplace=True)\n",
    "    sub_df.columns = [prefix+'_' + col.lower().replace('_', ' ').strip() for col in sub_df.columns]\n",
    "    sub_df.rename(columns= {f\"{prefix}_headline cpi\": f\"{prefix}_headline CPI\"}, inplace=True)\n",
    "    \n",
    "    sub_df = pd.melt(sub_df.reset_index(), id_vars= ['Month'], var_name= 'ID', value_name= 'Value')\n",
    "    \n",
    "    return sub_df[['ID', 'Value']]"
   ]
  },
  {
   "cell_type": "code",
   "execution_count": 68,
   "metadata": {},
   "outputs": [],
   "source": [
    "y_ins = (y_pred + (2 * y_predl) + y_predr) / 4\n",
    "sub = prepSub(y_ins, target_cols, test, 'July') \n",
    "sub.to_csv('out/ensemble_l2lar_lag210_all.csv', index=False)"
   ]
  }
 ],
 "metadata": {
  "kernelspec": {
   "display_name": "base",
   "language": "python",
   "name": "python3"
  },
  "language_info": {
   "codemirror_mode": {
    "name": "ipython",
    "version": 3
   },
   "file_extension": ".py",
   "mimetype": "text/x-python",
   "name": "python",
   "nbconvert_exporter": "python",
   "pygments_lexer": "ipython3",
   "version": "3.10.9"
  },
  "orig_nbformat": 4
 },
 "nbformat": 4,
 "nbformat_minor": 2
}
